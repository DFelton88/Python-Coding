{
  "nbformat": 4,
  "nbformat_minor": 0,
  "metadata": {
    "colab": {
      "name": "Pivot_ML5Assign_Nashville_Housing_ML.ipynb",
      "provenance": [],
      "collapsed_sections": [],
      "include_colab_link": true
    },
    "kernelspec": {
      "display_name": "Python 3",
      "language": "python",
      "name": "python3"
    },
    "language_info": {
      "codemirror_mode": {
        "name": "ipython",
        "version": 3
      },
      "file_extension": ".py",
      "mimetype": "text/x-python",
      "name": "python",
      "nbconvert_exporter": "python",
      "pygments_lexer": "ipython3",
      "version": "3.7.4"
    }
  },
  "cells": [
    {
      "cell_type": "markdown",
      "metadata": {
        "id": "view-in-github",
        "colab_type": "text"
      },
      "source": [
        "<a href=\"https://colab.research.google.com/github/DFelton88/Python-Coding/blob/master/Pivot_ML5Assign_Nashville_Housing_ML.ipynb\" target=\"_parent\"><img src=\"https://colab.research.google.com/assets/colab-badge.svg\" alt=\"Open In Colab\"/></a>"
      ]
    },
    {
      "cell_type": "markdown",
      "metadata": {
        "id": "N8ZTVuOl1_Rf"
      },
      "source": [
        "## ML5Assign: Nashville Housing - Machine Learning \n",
        "\n"
      ]
    },
    {
      "cell_type": "code",
      "metadata": {
        "id": "rDbl4parLQ-k",
        "colab": {
          "base_uri": "https://localhost:8080/"
        },
        "outputId": "8ccf02bd-4288-41bd-f384-b535688d45ab"
      },
      "source": [
        "! git clone https://github.com/gacree/NashvilleHousing.git"
      ],
      "execution_count": null,
      "outputs": [
        {
          "output_type": "stream",
          "name": "stdout",
          "text": [
            "Cloning into 'NashvilleHousing'...\n",
            "remote: Enumerating objects: 9, done.\u001b[K\n",
            "remote: Counting objects: 100% (9/9), done.\u001b[K\n",
            "remote: Compressing objects: 100% (7/7), done.\u001b[K\n",
            "remote: Total 9 (delta 2), reused 0 (delta 0), pack-reused 0\u001b[K\n",
            "Unpacking objects: 100% (9/9), done.\n"
          ]
        }
      ]
    },
    {
      "cell_type": "markdown",
      "metadata": {
        "id": "OiaBsoGa1_Rm"
      },
      "source": [
        "Import packages, read data into dataframes, reassign column names\n",
        "\n"
      ]
    },
    {
      "cell_type": "code",
      "metadata": {
        "id": "ONUVb8eN1_Rm",
        "scrolled": false
      },
      "source": [
        "#import the pandas package for data analytics.\n",
        "import pandas as pd\n",
        "\n",
        "# Read the data files into pandas dataframes.\n",
        "# Notice that we must indicate the full path of the data file.\n",
        "houses_2017 = pd.read_csv('NashvilleHousing/2017SINGLEFAMILYSF.txt')\n",
        "\n",
        "# Alter the column names in each of the new dataframes.\n",
        "houses_2017.columns = ['APN', 'DistrictCode', 'CouncilDistrict', 'AddressFullAddress',\n",
        "       'AddressCity', 'AddressPostalCode', 'LAND', 'IMPR', 'TOTALAPPR',\n",
        "       'TOTALASSD', 'FinishedArea']"
      ],
      "execution_count": null,
      "outputs": []
    },
    {
      "cell_type": "markdown",
      "metadata": {
        "id": "I35Lx5ob4gIt"
      },
      "source": [
        "### Create a new column 'CityNum' that will identify each 'AddressCity' with an integer value from 0-15."
      ]
    },
    {
      "cell_type": "code",
      "metadata": {
        "id": "PQWIznSuTO-0",
        "colab": {
          "base_uri": "https://localhost:8080/"
        },
        "outputId": "f4cf6283-568f-478b-e5c6-d83fd4baa99e"
      },
      "source": [
        "# List the unique AddressCity values\n",
        "# Note there are 16 of them.\n",
        "houses_2017['AddressCity'].unique()"
      ],
      "execution_count": null,
      "outputs": [
        {
          "output_type": "execute_result",
          "data": {
            "text/plain": [
              "array(['NASHVILLE', 'GOODLETTSVILLE', 'JOELTON', 'WHITES CREEK',\n",
              "       'MADISON', 'OLD HICKORY', 'ASHLAND CITY', 'HERMITAGE', 'PEGRAM',\n",
              "       'MOUNT JULIET', 'FRANKLIN', 'ANTIOCH', 'BELLEVUE', 'BRENTWOOD',\n",
              "       'LAVERGNE', 'NOLENSVILLE'], dtype=object)"
            ]
          },
          "metadata": {},
          "execution_count": 3
        }
      ]
    },
    {
      "cell_type": "code",
      "metadata": {
        "id": "pndehNeB2BUF",
        "colab": {
          "base_uri": "https://localhost:8080/",
          "height": 677
        },
        "outputId": "08959973-28eb-4f3a-d717-f12433f76e20"
      },
      "source": [
        "# df[newcolumn] = pd.factorize(df[column])[0]\n",
        "# This method will take all the unique values of df[column]\n",
        "# and change them to integers from 0 - len(column) \n",
        "\n",
        "# pd.factorize() has two outputs ... \n",
        "# The first gives the integers from 0 - len(column) and\n",
        "# The second gives the original unique values of the column\n",
        "# Since we're interested in these first values we append [0]\n",
        "\n",
        "houses_2017['CityNum'] = pd.factorize(houses_2017['AddressCity'])[0]\n",
        "\n",
        "houses_2017[['AddressCity','CityNum']].sample(20)"
      ],
      "execution_count": null,
      "outputs": [
        {
          "output_type": "execute_result",
          "data": {
            "text/html": [
              "<div>\n",
              "<style scoped>\n",
              "    .dataframe tbody tr th:only-of-type {\n",
              "        vertical-align: middle;\n",
              "    }\n",
              "\n",
              "    .dataframe tbody tr th {\n",
              "        vertical-align: top;\n",
              "    }\n",
              "\n",
              "    .dataframe thead th {\n",
              "        text-align: right;\n",
              "    }\n",
              "</style>\n",
              "<table border=\"1\" class=\"dataframe\">\n",
              "  <thead>\n",
              "    <tr style=\"text-align: right;\">\n",
              "      <th></th>\n",
              "      <th>AddressCity</th>\n",
              "      <th>CityNum</th>\n",
              "    </tr>\n",
              "  </thead>\n",
              "  <tbody>\n",
              "    <tr>\n",
              "      <th>185103</th>\n",
              "      <td>NASHVILLE</td>\n",
              "      <td>0</td>\n",
              "    </tr>\n",
              "    <tr>\n",
              "      <th>39804</th>\n",
              "      <td>NASHVILLE</td>\n",
              "      <td>0</td>\n",
              "    </tr>\n",
              "    <tr>\n",
              "      <th>75818</th>\n",
              "      <td>NASHVILLE</td>\n",
              "      <td>0</td>\n",
              "    </tr>\n",
              "    <tr>\n",
              "      <th>171042</th>\n",
              "      <td>NASHVILLE</td>\n",
              "      <td>0</td>\n",
              "    </tr>\n",
              "    <tr>\n",
              "      <th>139202</th>\n",
              "      <td>NASHVILLE</td>\n",
              "      <td>0</td>\n",
              "    </tr>\n",
              "    <tr>\n",
              "      <th>83128</th>\n",
              "      <td>NASHVILLE</td>\n",
              "      <td>0</td>\n",
              "    </tr>\n",
              "    <tr>\n",
              "      <th>159773</th>\n",
              "      <td>NASHVILLE</td>\n",
              "      <td>0</td>\n",
              "    </tr>\n",
              "    <tr>\n",
              "      <th>4053</th>\n",
              "      <td>GOODLETTSVILLE</td>\n",
              "      <td>1</td>\n",
              "    </tr>\n",
              "    <tr>\n",
              "      <th>86847</th>\n",
              "      <td>NASHVILLE</td>\n",
              "      <td>0</td>\n",
              "    </tr>\n",
              "    <tr>\n",
              "      <th>87191</th>\n",
              "      <td>NASHVILLE</td>\n",
              "      <td>0</td>\n",
              "    </tr>\n",
              "    <tr>\n",
              "      <th>19665</th>\n",
              "      <td>MADISON</td>\n",
              "      <td>4</td>\n",
              "    </tr>\n",
              "    <tr>\n",
              "      <th>120486</th>\n",
              "      <td>NASHVILLE</td>\n",
              "      <td>0</td>\n",
              "    </tr>\n",
              "    <tr>\n",
              "      <th>40952</th>\n",
              "      <td>NASHVILLE</td>\n",
              "      <td>0</td>\n",
              "    </tr>\n",
              "    <tr>\n",
              "      <th>94209</th>\n",
              "      <td>NASHVILLE</td>\n",
              "      <td>0</td>\n",
              "    </tr>\n",
              "    <tr>\n",
              "      <th>28140</th>\n",
              "      <td>NASHVILLE</td>\n",
              "      <td>0</td>\n",
              "    </tr>\n",
              "    <tr>\n",
              "      <th>181470</th>\n",
              "      <td>ANTIOCH</td>\n",
              "      <td>11</td>\n",
              "    </tr>\n",
              "    <tr>\n",
              "      <th>110623</th>\n",
              "      <td>NASHVILLE</td>\n",
              "      <td>0</td>\n",
              "    </tr>\n",
              "    <tr>\n",
              "      <th>165476</th>\n",
              "      <td>NASHVILLE</td>\n",
              "      <td>0</td>\n",
              "    </tr>\n",
              "    <tr>\n",
              "      <th>156111</th>\n",
              "      <td>ANTIOCH</td>\n",
              "      <td>11</td>\n",
              "    </tr>\n",
              "    <tr>\n",
              "      <th>124568</th>\n",
              "      <td>NASHVILLE</td>\n",
              "      <td>0</td>\n",
              "    </tr>\n",
              "  </tbody>\n",
              "</table>\n",
              "</div>"
            ],
            "text/plain": [
              "           AddressCity  CityNum\n",
              "185103       NASHVILLE        0\n",
              "39804        NASHVILLE        0\n",
              "75818        NASHVILLE        0\n",
              "171042       NASHVILLE        0\n",
              "139202       NASHVILLE        0\n",
              "83128        NASHVILLE        0\n",
              "159773       NASHVILLE        0\n",
              "4053    GOODLETTSVILLE        1\n",
              "86847        NASHVILLE        0\n",
              "87191        NASHVILLE        0\n",
              "19665          MADISON        4\n",
              "120486       NASHVILLE        0\n",
              "40952        NASHVILLE        0\n",
              "94209        NASHVILLE        0\n",
              "28140        NASHVILLE        0\n",
              "181470         ANTIOCH       11\n",
              "110623       NASHVILLE        0\n",
              "165476       NASHVILLE        0\n",
              "156111         ANTIOCH       11\n",
              "124568       NASHVILLE        0"
            ]
          },
          "metadata": {},
          "execution_count": 4
        }
      ]
    },
    {
      "cell_type": "markdown",
      "metadata": {
        "id": "q8sBxw6p4CnO"
      },
      "source": [
        "# Your objective in this notebook is to increase the Model.score(X_test, y_test)) based upon the ML model predictions of the CityNum based upon the quantitative features known about each property.\n",
        "\n",
        "### You may alter the choice of data features (or even the target values).\n",
        "X = houses_2017[['LAND', 'IMPR', 'TOTALAPPR', 'TOTALASSD', 'FinishedArea']]\n",
        "\n",
        "y = houses_2017['CityNum']\n",
        "### -\n",
        "\n",
        "### You may also choose to alter the test_size value when you split the data into training and testing datasets.\n",
        "test_size= 2\n",
        "\n",
        "### -\n",
        "\n",
        "### In limited ways you can also 'play' with the model parameters such as ...\n",
        "\n",
        "n_neighbors= Park (Nearest Neighbors)\n",
        "\n",
        "n_estimators= Schools (Random Forest)\n"
      ]
    },
    {
      "cell_type": "markdown",
      "metadata": {
        "id": "L_sq8jHXxczQ"
      },
      "source": [
        "### 1) In the following cells make changes to your choices of features included in X. Then run Models One & Four below to determine whether or not your predictions have improved.\n",
        "Note: This may take several iterations before you are content with the final results.\n",
        "\n"
      ]
    },
    {
      "cell_type": "code",
      "metadata": {
        "id": "SiHP56wriV_o"
      },
      "source": [
        "##### Don't Change This Cell #####\n",
        "##### In fact, you don't even need to execute this cell.\n",
        "##### If you make changes to the cell below ... \n",
        "##### that causes the cell to no longer function ... \n",
        "##### you can always copy the following 3 lines below and begin fresh!\n",
        "\n",
        "# Define the features and the target from our dataset\n",
        "X = houses_2017[['LAND', 'IMPR', 'TOTALAPPR', 'TOTALASSD', 'FinishedArea']]\n",
        "y = houses_2017['CityNum']"
      ],
      "execution_count": null,
      "outputs": []
    },
    {
      "cell_type": "code",
      "metadata": {
        "id": "c1sH1BD6iXZX"
      },
      "source": [
        "# ???\n",
        "##### Make your changes to X and y in this cell!!\n",
        "##### You have many options:\n",
        "##### Try one feature at a time, or two, or three, or four, or all\n",
        "##### In any combination.\n",
        "##### You certainly don't need to try them all, but give it some thought\n",
        "##### And determine what you think might work best.\n",
        "\n",
        "# Define the features and the target from our dataset ... for instance:\n",
        "X = houses_2017[['FinishedArea','AddressPostalCode','IMPR','TOTALAPPR']]\n",
        "y = houses_2017['CityNum']"
      ],
      "execution_count": null,
      "outputs": []
    },
    {
      "cell_type": "markdown",
      "metadata": {
        "id": "9K13El6WwyGR"
      },
      "source": [
        "### Create Training and Testing Sets"
      ]
    },
    {
      "cell_type": "code",
      "metadata": {
        "id": "11l2g-27wyQv"
      },
      "source": [
        "# import the package to create the Training and Testing split.\n",
        "from sklearn.model_selection import train_test_split\n",
        "\n",
        "# The code below splits our X and y into training and testing sets. \n",
        "# Since test_size=0.30, the split will be 70% Training to 30% Testing sets.\n",
        "X_train, X_test, y_train, y_test = train_test_split(X, y, test_size=0.30, random_state=2)"
      ],
      "execution_count": null,
      "outputs": []
    },
    {
      "cell_type": "markdown",
      "metadata": {
        "id": "kXsJmY5GZHXc"
      },
      "source": [
        "## Model One: Select, Instantiate, Fit, Score"
      ]
    },
    {
      "cell_type": "code",
      "metadata": {
        "id": "MbL5ZYiwZHkG",
        "colab": {
          "base_uri": "https://localhost:8080/"
        },
        "outputId": "ed31cc5a-8a4c-4645-cdca-08d9a7019784"
      },
      "source": [
        "##### Don't make changes to this cell ...\n",
        "##### Just execute it ...\n",
        "##### After each adjustment to your feature selection\n",
        "\n",
        "## Select/Import the Model.\n",
        "from sklearn.neighbors import KNeighborsClassifier\n",
        "    \n",
        "## Instantiate the Knn model with ... neighbors. \n",
        "ModelOne = KNeighborsClassifier(n_neighbors=3)\n",
        "    \n",
        "## Fit the model on the training data.\n",
        "ModelOne.fit(X_train, y_train)\n",
        "    \n",
        "## See how the model performs on the test data.\n",
        "print(ModelOne.score(X_test, y_test))"
      ],
      "execution_count": null,
      "outputs": [
        {
          "output_type": "stream",
          "name": "stdout",
          "text": [
            "0.7696626363405766\n"
          ]
        }
      ]
    },
    {
      "cell_type": "markdown",
      "metadata": {
        "id": "UbhrVoRaZ-Ae"
      },
      "source": [
        "## Model Four: Select, Instantiate, Fit, Score"
      ]
    },
    {
      "cell_type": "code",
      "metadata": {
        "id": "vRThW_jRZ-Pn",
        "colab": {
          "base_uri": "https://localhost:8080/"
        },
        "outputId": "d7502f78-8282-4126-e6fc-1f5ec5849f40"
      },
      "source": [
        "##### Don't make changes to this cell ...\n",
        "##### Just execute it ...\n",
        "##### After each adjustment to your feature selection\n",
        "\n",
        "## Select/Import the Model.\n",
        "from sklearn.ensemble import RandomForestClassifier\n",
        "\n",
        "## Instantiate the Random Forest model\n",
        "ModelFour = RandomForestClassifier(n_estimators=3)\n",
        "\n",
        "## Fit the model on the training data.\n",
        "ModelFour.fit(X_train, y_train)\n",
        "\n",
        "## See how the model performs on the test data.\n",
        "print(ModelFour.score(X_test, y_test))"
      ],
      "execution_count": null,
      "outputs": [
        {
          "output_type": "stream",
          "name": "stdout",
          "text": [
            "0.9995941489811448\n"
          ]
        }
      ]
    },
    {
      "cell_type": "markdown",
      "metadata": {
        "id": "7CMh56pfiX8V"
      },
      "source": [
        "### 2) After you have determined which feature selection gives you the best scores\n",
        "\n",
        "In the n_estimators, I change the number a few time. The number 3 gave me the best outcome.\n",
        "\n",
        "### In the text cell below, briefly describe the changes you made to the features, how these changes improved your results, and possible reasons for this improvement."
      ]
    },
    {
      "cell_type": "markdown",
      "metadata": {
        "id": "WKqe8d6NjGuj"
      },
      "source": [
        "**bold text**'# Adding FinishedArea','AddressPostalCode','IMPR','TOTALAPPR' to the cell, it did change the overall outcome."
      ]
    },
    {
      "cell_type": "markdown",
      "metadata": {
        "id": "jVSqUUROQfGY"
      },
      "source": [
        "### 3) Try other values for test_size in the following code. Then run the models below to determine whether or not your predictions have improved.\n",
        "\n",
        "Note: Again, this may take several iterations before you are content with the final results."
      ]
    },
    {
      "cell_type": "code",
      "metadata": {
        "id": "W8BlbkAx3BWS"
      },
      "source": [
        "# ???\n",
        "# import the package to create the Training and Testing split.\n",
        "from sklearn.model_selection import train_test_split\n",
        "\n",
        "##### Change the current value of test_size ... until you are satisfied ...\n",
        "##### That you cannot make additional improvement in the scores to follow.\n",
        "##### Note: It must be between 0.0 and 1.0 ... \n",
        "##### But these extremes will not be very helpful!!!\n",
        "\n",
        "# The code below splits our X and y into training and testing sets. \n",
        "X_train, X_test, y_train, y_test = train_test_split(X, y, test_size=0.41, random_state=2)"
      ],
      "execution_count": null,
      "outputs": []
    },
    {
      "cell_type": "markdown",
      "metadata": {
        "id": "YTwHnfSCiF1v"
      },
      "source": [
        "## Model One: Select, Instantiate, Fit, Score"
      ]
    },
    {
      "cell_type": "code",
      "metadata": {
        "id": "cWi-InQ0iGCt",
        "colab": {
          "base_uri": "https://localhost:8080/"
        },
        "outputId": "cccb303a-1113-4eff-b984-bc5131f3f5be"
      },
      "source": [
        "##### Don't make changes to this cell ...\n",
        "##### Just execute it ...\n",
        "##### After each adjustment to your feature selection\n",
        "\n",
        "## Select/Import the Model.\n",
        "from sklearn.neighbors import KNeighborsClassifier\n",
        "    \n",
        "## Instantiate the Knn model with ... neighbors. \n",
        "ModelOne = KNeighborsClassifier(n_neighbors=3)\n",
        "    \n",
        "## Fit the model on the training data.\n",
        "ModelOne.fit(X_train, y_train)\n",
        "    \n",
        "## See how the model performs on the test data.\n",
        "print(ModelOne.score(X_test, y_test))"
      ],
      "execution_count": null,
      "outputs": [
        {
          "output_type": "stream",
          "name": "stdout",
          "text": [
            "0.7622406176918223\n"
          ]
        }
      ]
    },
    {
      "cell_type": "markdown",
      "metadata": {
        "id": "SgAzIC5jiGPv"
      },
      "source": [
        "## Model Four: Select, Instantiate, Fit, Score"
      ]
    },
    {
      "cell_type": "code",
      "metadata": {
        "id": "WmR0lCVXiGh9",
        "colab": {
          "base_uri": "https://localhost:8080/"
        },
        "outputId": "c0f2e915-10d1-4332-fa66-a3776b79b122"
      },
      "source": [
        "##### Don't make changes to this cell ...\n",
        "##### Just execute it ...\n",
        "##### After each adjustment to your feature selection\n",
        "\n",
        "## Select/Import the Model.\n",
        "from sklearn.ensemble import RandomForestClassifier\n",
        "\n",
        "## Instantiate the Random Forest model\n",
        "ModelFour = RandomForestClassifier(n_estimators=3)\n",
        "\n",
        "## Fit the model on the training data.\n",
        "ModelFour.fit(X_train, y_train)\n",
        "\n",
        "## See how the model performs on the test data.\n",
        "print(ModelFour.score(X_test, y_test))"
      ],
      "execution_count": null,
      "outputs": [
        {
          "output_type": "stream",
          "name": "stdout",
          "text": [
            "0.997500525879456\n"
          ]
        }
      ]
    },
    {
      "cell_type": "markdown",
      "metadata": {
        "id": "7qWcnmuWmMYO"
      },
      "source": [
        "### 4) In the following cell briefly describe the changes you made above, how they improved your results, and possible reasons for this improvement."
      ]
    },
    {
      "cell_type": "markdown",
      "metadata": {
        "id": "jqnIMt6gmMq2"
      },
      "source": [
        "In the n_estimators and n_neighbor, I change the number a few time. The number 3 gave me the best outcome on both those options."
      ]
    },
    {
      "cell_type": "markdown",
      "metadata": {
        "id": "C2bZZYWBmetd"
      },
      "source": [
        "### 5) Try other values for n_neighbors in the following code. Then run the model below to determine whether or not your predictions have improved.\n",
        "\n",
        "Note: As a simplification ... the K Nearest Neighbors Model predicts the target of a test element by looking at the targets of the K elements in the training set that are 'closest' to it. Changing K (the number of neighbors) can change your results."
      ]
    },
    {
      "cell_type": "markdown",
      "metadata": {
        "id": "T9ufxJzGQmEq"
      },
      "source": [
        "## Model One: Select, Instantiate, Fit, Score"
      ]
    },
    {
      "cell_type": "code",
      "metadata": {
        "id": "XQi1-17M0oJ1",
        "colab": {
          "base_uri": "https://localhost:8080/"
        },
        "outputId": "943866d4-3d1e-46be-d626-dc1a9c5a4db8"
      },
      "source": [
        "# ???\n",
        "##### Note: The only change you need to make is to the number for n_neighbors= ?\n",
        "##### Change the current value of n_neighbors ... until you are satisfied ...\n",
        "##### That you cannot make additional improvement in the scores to follow.\n",
        "\n",
        "## Select/Import the Model.\n",
        "from sklearn.neighbors import KNeighborsClassifier\n",
        "    \n",
        "## Instantiate the Knn model with ... neighbors. \n",
        "ModelOne = KNeighborsClassifier(n_neighbors=2)\n",
        "    \n",
        "## Fit the model on the training data.\n",
        "ModelOne.fit(X_train, y_train)\n",
        "    \n",
        "## See how the model performs on the test data.\n",
        "print(ModelOne.score(X_test, y_test))\n"
      ],
      "execution_count": null,
      "outputs": [
        {
          "output_type": "stream",
          "name": "stdout",
          "text": [
            "0.7580707029461623\n"
          ]
        }
      ]
    },
    {
      "cell_type": "markdown",
      "metadata": {
        "id": "6smkNDFRmvef"
      },
      "source": [
        "### 6) In the following cell briefly describe the changes you made above, how they improved your results, and possible reasons for this improvement."
      ]
    },
    {
      "cell_type": "markdown",
      "metadata": {
        "id": "matvma53mviH"
      },
      "source": [
        "In the n_neighbor, I change the number a few time. The number 2 gave me the best outcome.\n",
        "\n",
        "> Indented block\n",
        "\n"
      ]
    },
    {
      "cell_type": "markdown",
      "metadata": {
        "id": "gUcweU0QnMar"
      },
      "source": [
        "### 7) Try other values for n_estimators in the following code. Then run the model below to determine whether or not your predictions have improved. \n",
        "\n",
        "Note: As a simplification ... the Random Forest Model uses multiple Decision Trees (of course) and chooses the best among them. Changing the number of Decision Trees considered could alter your results."
      ]
    },
    {
      "cell_type": "markdown",
      "metadata": {
        "id": "z8syKzB0RZU3"
      },
      "source": [
        "## Model Four: Select, Instantiate, Fit, Score"
      ]
    },
    {
      "cell_type": "code",
      "metadata": {
        "id": "HQCyWYI259aq",
        "colab": {
          "base_uri": "https://localhost:8080/"
        },
        "outputId": "d43d975a-33a5-46db-ff3b-61e0a40365f8"
      },
      "source": [
        "# ???\n",
        "##### Note: The only change you need to make is to the number for n_estimators= ?\n",
        "##### Change the current value of n_estimators= ... until you are satisfied ...\n",
        "##### That you cannot make additional improvement in the scores to follow.\n",
        "\n",
        "## Select/Import the Model.\n",
        "from sklearn.ensemble import RandomForestClassifier\n",
        "\n",
        "## Instantiate the Random Forest model\n",
        "ModelFour = RandomForestClassifier(n_estimators=3)\n",
        "\n",
        "## Fit the model on the training data.\n",
        "ModelFour.fit(X_train, y_train)\n",
        "\n",
        "## See how the model performs on the test data.\n",
        "print(ModelFour.score(X_test, y_test))"
      ],
      "execution_count": null,
      "outputs": [
        {
          "output_type": "stream",
          "name": "stdout",
          "text": [
            "0.9978469876387394\n"
          ]
        }
      ]
    },
    {
      "cell_type": "markdown",
      "metadata": {
        "id": "1Ih7sHc1nvS6"
      },
      "source": [
        "### 8) In the following cell briefly describe the changes you made above, how they improved your results, and possible reasons for this improvement."
      ]
    },
    {
      "cell_type": "markdown",
      "metadata": {
        "id": "pzeJ-5g5n0Kx"
      },
      "source": [
        "In the n_estimators, I change the number a few time. The number 3 gave me the best outcome for this option."
      ]
    },
    {
      "cell_type": "markdown",
      "metadata": {
        "id": "XFGQ3h5gn9kS"
      },
      "source": [
        "### 9) What was your overall best score? ... and from which model did it come?"
      ]
    },
    {
      "cell_type": "markdown",
      "metadata": {
        "id": "P3sOaPZHn9ns"
      },
      "source": [
        "My best score was 0.99, Model Four gave me the best outcome."
      ]
    },
    {
      "cell_type": "markdown",
      "metadata": {
        "id": "UbTaCwGtjODq"
      },
      "source": [
        "# Optionally for those looking for a bit of a challenge:\n",
        "\n",
        "### 10) Take the time to redefine the values in 'CityNum' to reduce the number of possible targets. Then run the models below to determine whether or not your predictions have improved.\n",
        "\n",
        "Note1: There are several options here: You might limit your dataframe to only a few of the AddressCity values (rather than the full 16) or you might have more than one AddressCity value lead to a single CityNum value ... grouping some of the AddressCity values together. You might think of other possibilities as well.\n",
        "\n",
        "Note2: Again, this may take several iterations before you are content with the final results."
      ]
    },
    {
      "cell_type": "code",
      "metadata": {
        "id": "xCf5xtb87Y25",
        "colab": {
          "base_uri": "https://localhost:8080/",
          "height": 677
        },
        "outputId": "3b6a42ac-d259-4712-cd65-8fc787b0b0e5"
      },
      "source": [
        "# This cell is only included for a reference if needed. \n",
        "#Use, alter, or ignore at your own discretion.\n",
        "\n",
        "# Create a new column and give it an initial value.\n",
        "houses_2017['CityNum'] = 99\n",
        "\n",
        "# Create a counter that will be incremented to assign distinct values to each AddressCity\n",
        "i = 0\n",
        "\n",
        "# Loop through each of the unique AddressCity values \n",
        "for city in houses_2017['AddressCity'].unique():\n",
        "  # assign the counter value to the 'CityNum' for that AddressCity\n",
        "  houses_2017.loc[houses_2017['AddressCity']== city, 'CityNum'] = i\n",
        "  # increment the counter for use for the next AddressCity\n",
        "  i+=1\n",
        "  \n",
        "# View a sample of the resulting dataframe\n",
        "houses_2017[['AddressCity','CityNum']].sample(20)\n",
        "\n",
        "# Notice that the assigned numbers are given \n",
        "# in the order of houses_2017['AddressCity'].unique() as seen above.\n",
        "# NASHVILLE - 0, GOODLETTSVILLE - 1, JOELTON - 2, ..."
      ],
      "execution_count": null,
      "outputs": [
        {
          "output_type": "execute_result",
          "data": {
            "text/html": [
              "<div>\n",
              "<style scoped>\n",
              "    .dataframe tbody tr th:only-of-type {\n",
              "        vertical-align: middle;\n",
              "    }\n",
              "\n",
              "    .dataframe tbody tr th {\n",
              "        vertical-align: top;\n",
              "    }\n",
              "\n",
              "    .dataframe thead th {\n",
              "        text-align: right;\n",
              "    }\n",
              "</style>\n",
              "<table border=\"1\" class=\"dataframe\">\n",
              "  <thead>\n",
              "    <tr style=\"text-align: right;\">\n",
              "      <th></th>\n",
              "      <th>AddressCity</th>\n",
              "      <th>CityNum</th>\n",
              "    </tr>\n",
              "  </thead>\n",
              "  <tbody>\n",
              "    <tr>\n",
              "      <th>73622</th>\n",
              "      <td>NASHVILLE</td>\n",
              "      <td>0</td>\n",
              "    </tr>\n",
              "    <tr>\n",
              "      <th>101135</th>\n",
              "      <td>NASHVILLE</td>\n",
              "      <td>0</td>\n",
              "    </tr>\n",
              "    <tr>\n",
              "      <th>136528</th>\n",
              "      <td>NASHVILLE</td>\n",
              "      <td>0</td>\n",
              "    </tr>\n",
              "    <tr>\n",
              "      <th>176749</th>\n",
              "      <td>NASHVILLE</td>\n",
              "      <td>0</td>\n",
              "    </tr>\n",
              "    <tr>\n",
              "      <th>14078</th>\n",
              "      <td>OLD HICKORY</td>\n",
              "      <td>5</td>\n",
              "    </tr>\n",
              "    <tr>\n",
              "      <th>28547</th>\n",
              "      <td>NASHVILLE</td>\n",
              "      <td>0</td>\n",
              "    </tr>\n",
              "    <tr>\n",
              "      <th>175195</th>\n",
              "      <td>NASHVILLE</td>\n",
              "      <td>0</td>\n",
              "    </tr>\n",
              "    <tr>\n",
              "      <th>185979</th>\n",
              "      <td>NASHVILLE</td>\n",
              "      <td>0</td>\n",
              "    </tr>\n",
              "    <tr>\n",
              "      <th>138904</th>\n",
              "      <td>NASHVILLE</td>\n",
              "      <td>0</td>\n",
              "    </tr>\n",
              "    <tr>\n",
              "      <th>70996</th>\n",
              "      <td>NASHVILLE</td>\n",
              "      <td>0</td>\n",
              "    </tr>\n",
              "    <tr>\n",
              "      <th>15111</th>\n",
              "      <td>WHITES CREEK</td>\n",
              "      <td>3</td>\n",
              "    </tr>\n",
              "    <tr>\n",
              "      <th>99933</th>\n",
              "      <td>NASHVILLE</td>\n",
              "      <td>0</td>\n",
              "    </tr>\n",
              "    <tr>\n",
              "      <th>105184</th>\n",
              "      <td>NASHVILLE</td>\n",
              "      <td>0</td>\n",
              "    </tr>\n",
              "    <tr>\n",
              "      <th>32918</th>\n",
              "      <td>NASHVILLE</td>\n",
              "      <td>0</td>\n",
              "    </tr>\n",
              "    <tr>\n",
              "      <th>64166</th>\n",
              "      <td>NASHVILLE</td>\n",
              "      <td>0</td>\n",
              "    </tr>\n",
              "    <tr>\n",
              "      <th>37878</th>\n",
              "      <td>NASHVILLE</td>\n",
              "      <td>0</td>\n",
              "    </tr>\n",
              "    <tr>\n",
              "      <th>191710</th>\n",
              "      <td>ANTIOCH</td>\n",
              "      <td>11</td>\n",
              "    </tr>\n",
              "    <tr>\n",
              "      <th>173399</th>\n",
              "      <td>NASHVILLE</td>\n",
              "      <td>0</td>\n",
              "    </tr>\n",
              "    <tr>\n",
              "      <th>74717</th>\n",
              "      <td>NASHVILLE</td>\n",
              "      <td>0</td>\n",
              "    </tr>\n",
              "    <tr>\n",
              "      <th>142481</th>\n",
              "      <td>NASHVILLE</td>\n",
              "      <td>0</td>\n",
              "    </tr>\n",
              "  </tbody>\n",
              "</table>\n",
              "</div>"
            ],
            "text/plain": [
              "         AddressCity  CityNum\n",
              "73622      NASHVILLE        0\n",
              "101135     NASHVILLE        0\n",
              "136528     NASHVILLE        0\n",
              "176749     NASHVILLE        0\n",
              "14078    OLD HICKORY        5\n",
              "28547      NASHVILLE        0\n",
              "175195     NASHVILLE        0\n",
              "185979     NASHVILLE        0\n",
              "138904     NASHVILLE        0\n",
              "70996      NASHVILLE        0\n",
              "15111   WHITES CREEK        3\n",
              "99933      NASHVILLE        0\n",
              "105184     NASHVILLE        0\n",
              "32918      NASHVILLE        0\n",
              "64166      NASHVILLE        0\n",
              "37878      NASHVILLE        0\n",
              "191710       ANTIOCH       11\n",
              "173399     NASHVILLE        0\n",
              "74717      NASHVILLE        0\n",
              "142481     NASHVILLE        0"
            ]
          },
          "metadata": {},
          "execution_count": 15
        }
      ]
    },
    {
      "cell_type": "code",
      "metadata": {
        "id": "TUSR2BZTkau8"
      },
      "source": [
        "# ???\n",
        "# Redefine the values in 'CityNum'\n",
        "\n",
        "# Change all the values of 'CityNum' to a specific number.\n",
        "houses_2017['CityNum'] = 99\n",
        "\n",
        "# Hint: Rather than looping through all the 'Addresscity' cities, ...\n",
        "# you might use something of the following form (for each value you wish to change):\n",
        "houses_2017.loc[houses_2017['AddressCity']== 'NASHVILLE', 'CityNum'] = 0\n",
        "#houses_2017.loc[houses_2017['AddressCity']== 'JOELTON', 'CityNum'] = 1\n",
        "# Note: So if you make no changes in this cell then the value in 'CityNum' ...\n",
        "# Will be 0 if 'AddressCity' is 'NASHVILLE', \n",
        "# 1 if 'AddressCity' is 'JOELTON' and 99 otherwise.\n",
        "# Thus the models are only predicting if a housing unit is in NASHVILLE,\n",
        "# JOELTON,  or not.\n",
        "# What other cities (or groups of cities) might you choose to consider?\n",
        "# Which are easier to predict? Which are more difficult?\n"
      ],
      "execution_count": null,
      "outputs": []
    },
    {
      "cell_type": "markdown",
      "metadata": {
        "id": "UcyxRLwrzndr"
      },
      "source": [
        "### Create Training and Testing Sets"
      ]
    },
    {
      "cell_type": "code",
      "metadata": {
        "id": "WqIX8cHpznqD"
      },
      "source": [
        "# import the package to create the Training and Testing split.\n",
        "from sklearn.model_selection import train_test_split\n",
        "\n",
        "# The code below splits our X and y into training and testing sets. \n",
        "# Since test_size=0.30, the split will be 70% Training to 30% Testing sets.\n",
        "X_train, X_test, y_train, y_test = train_test_split(X, y, test_size=0.10, random_state=2)"
      ],
      "execution_count": null,
      "outputs": []
    },
    {
      "cell_type": "markdown",
      "metadata": {
        "id": "X7t0ptaHt2eh"
      },
      "source": [
        "## Model One: Select, Instantiate, Fit, Score"
      ]
    },
    {
      "cell_type": "code",
      "metadata": {
        "id": "2XcgNC4kt2qg",
        "colab": {
          "base_uri": "https://localhost:8080/"
        },
        "outputId": "7dd0f36a-d303-4239-9d7e-af9769a879ca"
      },
      "source": [
        "##### Don't make changes to this cell ... except possibly to n_neighbors.\n",
        "##### Just execute it ...\n",
        "##### After each adjustment to your feature selection\n",
        "\n",
        "## Select/Import the Model.\n",
        "from sklearn.neighbors import KNeighborsClassifier\n",
        "    \n",
        "## Instantiate the Knn model with ... neighbors. \n",
        "ModelOne = KNeighborsClassifier(n_neighbors=2)\n",
        "    \n",
        "## Fit the model on the training data.\n",
        "ModelOne.fit(X_train, y_train)\n",
        "    \n",
        "## See how the model performs on the test data.\n",
        "print(ModelOne.score(X_test, y_test))"
      ],
      "execution_count": null,
      "outputs": [
        {
          "output_type": "stream",
          "name": "stdout",
          "text": [
            "0.8404525162337663\n"
          ]
        }
      ]
    },
    {
      "cell_type": "markdown",
      "metadata": {
        "id": "Ctod8LEbt256"
      },
      "source": [
        "## Model Four: Select, Instantiate, Fit, Score"
      ]
    },
    {
      "cell_type": "code",
      "metadata": {
        "id": "AzAT9gmRt3GT",
        "colab": {
          "base_uri": "https://localhost:8080/"
        },
        "outputId": "3a903af2-c794-4796-9ac7-55518979123c"
      },
      "source": [
        "##### Don't make changes to this cell ... except possibly to n_estimators.\n",
        "##### Just execute it ...\n",
        "##### After each adjustment to your feature selection\n",
        "\n",
        "## Select/Import the Model.\n",
        "from sklearn.ensemble import RandomForestClassifier\n",
        "\n",
        "## Instantiate the Random Forest model\n",
        "ModelFour = RandomForestClassifier(n_estimators=3)\n",
        "\n",
        "## Fit the model on the training data.\n",
        "ModelFour.fit(X_train, y_train)\n",
        "\n",
        "## See how the model performs on the test data.\n",
        "print(ModelFour.score(X_test, y_test))"
      ],
      "execution_count": null,
      "outputs": [
        {
          "output_type": "stream",
          "name": "stdout",
          "text": [
            "1.0\n"
          ]
        }
      ]
    },
    {
      "cell_type": "markdown",
      "metadata": {
        "id": "r6iV5ZO8l4bD"
      },
      "source": [
        "### 11) In the following cell briefly describe the changes you made above, how they improved your results, and possible reasons for this improvement."
      ]
    },
    {
      "cell_type": "markdown",
      "metadata": {
        "id": "BUhb8ButfNAb"
      },
      "source": [
        "In the n_neighbor, I change the number a few time. The number 2 gave me the best outcome.\n"
      ]
    }
  ]
}