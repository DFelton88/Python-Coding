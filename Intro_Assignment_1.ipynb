{
  "nbformat": 4,
  "nbformat_minor": 0,
  "metadata": {
    "colab": {
      "name": "Intro Assignment 1.ipynb",
      "provenance": [],
      "authorship_tag": "ABX9TyOh7y1TN1gluI90bb3hTFFE",
      "include_colab_link": true
    },
    "kernelspec": {
      "name": "python3",
      "display_name": "Python 3"
    },
    "language_info": {
      "name": "python"
    }
  },
  "cells": [
    {
      "cell_type": "markdown",
      "metadata": {
        "id": "view-in-github",
        "colab_type": "text"
      },
      "source": [
        "<a href=\"https://colab.research.google.com/github/DFelton88/TextAdventure-Dennisha/blob/master/Intro_Assignment_1.ipynb\" target=\"_parent\"><img src=\"https://colab.research.google.com/assets/colab-badge.svg\" alt=\"Open In Colab\"/></a>"
      ]
    },
    {
      "cell_type": "code",
      "metadata": {
        "colab": {
          "base_uri": "https://localhost:8080/"
        },
        "id": "BH6kqgkItgd1",
        "outputId": "ce4c1944-5c3d-4bf2-aa4f-c373c3f32230"
      },
      "source": [
        "message= \"Hello World!\"\n",
        "print(message)"
      ],
      "execution_count": null,
      "outputs": [
        {
          "output_type": "stream",
          "text": [
            "Hello World!\n"
          ],
          "name": "stdout"
        }
      ]
    },
    {
      "cell_type": "code",
      "metadata": {
        "colab": {
          "base_uri": "https://localhost:8080/"
        },
        "id": "XLJT1AAMBpUK",
        "outputId": "6e26ce06-65ba-43b4-fa85-1e76108732f4"
      },
      "source": [
        "first= \"Raven\"\n",
        "last= \"Symone\"\n",
        "email= \"@gmail.com\"\n",
        "print(first + last + email)"
      ],
      "execution_count": null,
      "outputs": [
        {
          "output_type": "stream",
          "text": [
            "RavenSymone@gmail.com\n"
          ],
          "name": "stdout"
        }
      ]
    },
    {
      "cell_type": "code",
      "metadata": {
        "colab": {
          "base_uri": "https://localhost:8080/"
        },
        "id": "MMAP_dEWBufN",
        "outputId": "311b397a-a754-4fbc-d474-af1b2b7b808b"
      },
      "source": [
        "name = \"Raven Symone\"\n",
        "print(name.lower())"
      ],
      "execution_count": null,
      "outputs": [
        {
          "output_type": "stream",
          "text": [
            "raven symone\n"
          ],
          "name": "stdout"
        }
      ]
    },
    {
      "cell_type": "code",
      "metadata": {
        "colab": {
          "base_uri": "https://localhost:8080/"
        },
        "id": "SxxgTt7AB2i0",
        "outputId": "5d284429-8f56-4501-a287-78689365bf99"
      },
      "source": [
        "name = \"Raven Symone\"\n",
        "print(name.upper())"
      ],
      "execution_count": null,
      "outputs": [
        {
          "output_type": "stream",
          "text": [
            "RAVEN SYMONE\n"
          ],
          "name": "stdout"
        }
      ]
    },
    {
      "cell_type": "code",
      "metadata": {
        "colab": {
          "base_uri": "https://localhost:8080/"
        },
        "id": "7VEOVLAzCaW7",
        "outputId": "264dea22-3acc-4d84-9c0d-862a1e141d83"
      },
      "source": [
        "variable= \"Do you want to hang out on the \"\n",
        "date= \"15\"\n",
        "when= \"th of the month?\"\n",
        "print(variable + date + when)"
      ],
      "execution_count": null,
      "outputs": [
        {
          "output_type": "stream",
          "text": [
            "Do you want to hang out on the 15th of the month?\n"
          ],
          "name": "stdout"
        }
      ]
    }
  ]
}