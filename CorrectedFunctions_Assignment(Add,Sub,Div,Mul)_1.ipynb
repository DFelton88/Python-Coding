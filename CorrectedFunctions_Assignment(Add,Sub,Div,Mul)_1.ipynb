{
  "nbformat": 4,
  "nbformat_minor": 0,
  "metadata": {
    "colab": {
      "name": "CorrectedFunctions Assignment(Add,Sub,Div,Mul) 1.ipynb",
      "provenance": [],
      "authorship_tag": "ABX9TyNKzpak+0513qwOTYjXRI5x",
      "include_colab_link": true
    },
    "kernelspec": {
      "name": "python3",
      "display_name": "Python 3"
    },
    "language_info": {
      "name": "python"
    }
  },
  "cells": [
    {
      "cell_type": "markdown",
      "metadata": {
        "id": "view-in-github",
        "colab_type": "text"
      },
      "source": [
        "<a href=\"https://colab.research.google.com/github/DFelton88/Python-Coding/blob/master/CorrectedFunctions_Assignment(Add%2CSub%2CDiv%2CMul)_1.ipynb\" target=\"_parent\"><img src=\"https://colab.research.google.com/assets/colab-badge.svg\" alt=\"Open In Colab\"/></a>"
      ]
    },
    {
      "cell_type": "code",
      "metadata": {
        "id": "u6n37lwuVspn",
        "colab": {
          "base_uri": "https://localhost:8080/"
        },
        "outputId": "3704ce73-a5ad-49f8-cb83-3c1ecc9f2c5d"
      },
      "source": [
        "#Python program to add two numbers using function\n",
        "def add_num(a,b):#function for addition\n",
        "    sum=a+b;\n",
        "    return sum; #return value\n",
        "num1 = float(input(\"Enter first number: \"))\n",
        "num2 = float(input(\"Enter second number: \"))\n",
        "print(\"The sum is\",add_num(num1,num2))"
      ],
      "execution_count": null,
      "outputs": [
        {
          "output_type": "stream",
          "name": "stdout",
          "text": [
            "Enter first number: 8\n",
            "Enter second number: 6\n",
            "The sum is 14.0\n"
          ]
        }
      ]
    },
    {
      "cell_type": "code",
      "metadata": {
        "colab": {
          "base_uri": "https://localhost:8080/"
        },
        "id": "vJ6n_bKf7knc",
        "outputId": "6f181243-ce71-489d-9b58-403aab005366"
      },
      "source": [
        "#Python program to add two numbers using function\n",
        "def sub_num(a,b):#function for subtraction\n",
        "    sum=a-b;\n",
        "    return sum; #return value\n",
        "num1 = float(input(\"Enter first number: \"))\n",
        "num2 = float(input(\"Enter second number: \"))\n",
        "print(\"The sum is\",sub_num(num1,num2))"
      ],
      "execution_count": null,
      "outputs": [
        {
          "output_type": "stream",
          "name": "stdout",
          "text": [
            "Enter first number: 8\n",
            "Enter second number: 4\n",
            "The sum is 4.0\n"
          ]
        }
      ]
    },
    {
      "cell_type": "code",
      "metadata": {
        "colab": {
          "base_uri": "https://localhost:8080/"
        },
        "id": "_krwyy_j74Hq",
        "outputId": "3b44287b-9d3c-4995-b91c-a9f56f0dc7ce"
      },
      "source": [
        "#Python program to add two numbers using function\n",
        "def multiply_num(a,b):#function for multiplication\n",
        "    sum=a*b;\n",
        "    return sum; #return value\n",
        "num1 = float(input(\"Enter first number: \"))\n",
        "num2 = float(input(\"Enter second number: \"))\n",
        "print(\"The sum is\",multiply_num(num1,num2))"
      ],
      "execution_count": null,
      "outputs": [
        {
          "output_type": "stream",
          "name": "stdout",
          "text": [
            "Enter first number: 8\n",
            "Enter second number: 5\n",
            "The sum is 40.0\n"
          ]
        }
      ]
    },
    {
      "cell_type": "code",
      "metadata": {
        "colab": {
          "base_uri": "https://localhost:8080/"
        },
        "id": "kllzrjON8MPT",
        "outputId": "39d5d27e-41fb-4545-aa09-717055b78fc2"
      },
      "source": [
        "#Python program to add two numbers using function\n",
        "def division_num(a,b):#function for division\n",
        "    sum=a/b;\n",
        "    return sum; #return value\n",
        "num1 = float(input(\"Enter first number: \"))\n",
        "num2 = float(input(\"Enter second number: \"))\n",
        "print(\"The sum is\",division_num(num1,num2))"
      ],
      "execution_count": null,
      "outputs": [
        {
          "output_type": "stream",
          "name": "stdout",
          "text": [
            "Enter first number: 100\n",
            "Enter second number: 20\n",
            "The sum is 5.0\n"
          ]
        }
      ]
    }
  ]
}