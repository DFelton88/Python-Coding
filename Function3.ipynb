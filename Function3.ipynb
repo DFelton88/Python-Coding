{
  "nbformat": 4,
  "nbformat_minor": 0,
  "metadata": {
    "colab": {
      "name": "Function3.ipynb",
      "provenance": [],
      "collapsed_sections": [],
      "authorship_tag": "ABX9TyPYE8oEqpP829wZ0y2KcvZa",
      "include_colab_link": true
    },
    "kernelspec": {
      "name": "python3",
      "display_name": "Python 3"
    },
    "language_info": {
      "name": "python"
    }
  },
  "cells": [
    {
      "cell_type": "markdown",
      "metadata": {
        "id": "view-in-github",
        "colab_type": "text"
      },
      "source": [
        "<a href=\"https://colab.research.google.com/github/DFelton88/Python-Coding/blob/master/Function3.ipynb\" target=\"_parent\"><img src=\"https://colab.research.google.com/assets/colab-badge.svg\" alt=\"Open In Colab\"/></a>"
      ]
    },
    {
      "cell_type": "code",
      "metadata": {
        "colab": {
          "base_uri": "https://localhost:8080/"
        },
        "id": "k6YPMv0Un96p",
        "outputId": "9cfd4303-b201-4098-b0fd-082440639ab5"
      },
      "source": [
        "User = (input('Enter your name '))\n",
        "hours = (float(input(\"Please enter hours worked: \", )))\n",
        "payrate =(float(input(\"Please enter your payrate: $\", )))\n",
        "def Statetax(salary):\n",
        "    return .07 * salary\n",
        "def FederalTax(salary):\n",
        "    return .20 * salary\n",
        "def contributionto401K(salary):\n",
        "    return .07 * salary\n",
        "def HealthInsurance(salary):\n",
        "    return .05 * salary\n",
        "def SocialSecurityTax(salary):\n",
        "    return 0.065 * salary\n",
        "if hours < 40:\n",
        "    print(\"Overtime hours: 0\")\n",
        "    print(\"Overtime Pay: $0.00\")\n",
        "    regularpay = round(hours * payrate, 2)\n",
        "    print(\"Gross Pay: $\", regularpay)\n",
        "elif hours > 40:\n",
        "    overtimehours = round(hours - 40.00,2)\n",
        "    print(\"Overtime hours: \", overtimehours)\n",
        "    regularpay = round(hours * payrate,2)\n",
        "    overtimerate = round(payrate * 1.5, 2)\n",
        "    overtimepay = round(overtimehours * overtimerate)\n",
        "    grosspay = round(regularpay+overtimepay,2)\n",
        "    print(\"Regular Pay: $\", regularpay)\n",
        "    print(\"Overtime Pay: $\",overtimepay)\n",
        "    print(\"Gross Pay: $\", grosspay)\n",
        "    print('State is equal to ' + \"${:,.2f}\".format(Statetax(GrossSalary)))\n",
        "    print('Federal is equal to ' + \"${:,.2f}\".format(FederalTax(GrossSalary)))\n",
        "    print('contribution to 401K is ' + \"${:,.2f}\".format(contributionto401K(GrossSalary)))\n",
        "    print('Health Insurance is ' + \"${:,.2f}\".format(HealthInsurance(GrossSalary)))\n",
        "    print('Social Security Tax is ' + \"${:,.2f}\".format(SocialSecurityTax(GrossSalary)))"
      ],
      "execution_count": null,
      "outputs": [
        {
          "output_type": "stream",
          "name": "stdout",
          "text": [
            "Enter your name Dennisha\n",
            "Please enter hours worked: 45\n",
            "Please enter your payrate: $21\n",
            "Overtime hours:  5.0\n",
            "Regular Pay: $ 945.0\n",
            "Overtime Pay: $ 158\n",
            "Gross Pay: $ 1103.0\n",
            "State is equal to $224.00\n",
            "Federal is equal to $640.00\n",
            "contribution to 401K is $224.00\n",
            "Health Insurance is $160.00\n",
            "Social Security Tax is $208.00\n"
          ]
        }
      ]
    }
  ]
}