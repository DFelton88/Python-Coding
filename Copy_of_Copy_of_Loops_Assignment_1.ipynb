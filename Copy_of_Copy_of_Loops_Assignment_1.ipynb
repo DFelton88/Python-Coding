{
  "nbformat": 4,
  "nbformat_minor": 0,
  "metadata": {
    "colab": {
      "name": "Copy of Copy of Loops Assignment 1.ipynb",
      "provenance": [],
      "collapsed_sections": [],
      "authorship_tag": "ABX9TyM5uI34oCN0LyjPIM/Hdu7p",
      "include_colab_link": true
    },
    "kernelspec": {
      "name": "python3",
      "display_name": "Python 3"
    },
    "language_info": {
      "name": "python"
    }
  },
  "cells": [
    {
      "cell_type": "markdown",
      "metadata": {
        "id": "view-in-github",
        "colab_type": "text"
      },
      "source": [
        "<a href=\"https://colab.research.google.com/github/DFelton88/Python-Coding/blob/master/Copy_of_Copy_of_Loops_Assignment_1.ipynb\" target=\"_parent\"><img src=\"https://colab.research.google.com/assets/colab-badge.svg\" alt=\"Open In Colab\"/></a>"
      ]
    },
    {
      "cell_type": "code",
      "metadata": {
        "colab": {
          "base_uri": "https://localhost:8080/"
        },
        "id": "Gt_W3rbbTPEK",
        "outputId": "a69143a0-0109-41e8-e433-4c05ee7b64fe"
      },
      "source": [
        "fruits = [\"apple\", \"orange\", \"kiwi\", \"bananas\", \"avocado\"]\n",
        "for fruit in fruits:\n",
        "  print(fruit)"
      ],
      "execution_count": null,
      "outputs": [
        {
          "output_type": "stream",
          "text": [
            "apple\n",
            "orange\n",
            "kiwi\n",
            "bananas\n",
            "avocado\n"
          ],
          "name": "stdout"
        }
      ]
    },
    {
      "cell_type": "code",
      "metadata": {
        "colab": {
          "base_uri": "https://localhost:8080/"
        },
        "id": "6Gr5dpJkT2JB",
        "outputId": "4857323b-2736-48a5-b1d4-4abfe5769bae"
      },
      "source": [
        "fruits = [\"apple\", \"orange\", \"kiwi\", \"bananas\", \"avocado\"]\n",
        "for fruit in fruits:\n",
        "  print(fruit + ' is one of my favorite fruit')"
      ],
      "execution_count": null,
      "outputs": [
        {
          "output_type": "stream",
          "text": [
            "apple is one of my favorite fruit\n",
            "orange is one of my favorite fruit\n",
            "kiwi is one of my favorite fruit\n",
            "bananas is one of my favorite fruit\n",
            "avocado is one of my favorite fruit\n"
          ],
          "name": "stdout"
        }
      ]
    },
    {
      "cell_type": "code",
      "metadata": {
        "colab": {
          "base_uri": "https://localhost:8080/"
        },
        "id": "vcMFpAdKU4F3",
        "outputId": "a97a442e-27af-4f0c-e077-4e3aaeb0007f"
      },
      "source": [
        "numbers = list(range(0,21,2))\n",
        "print(numbers)"
      ],
      "execution_count": null,
      "outputs": [
        {
          "output_type": "stream",
          "text": [
            "[0, 2, 4, 6, 8, 10, 12, 14, 16, 18, 20]\n"
          ],
          "name": "stdout"
        }
      ]
    },
    {
      "cell_type": "code",
      "metadata": {
        "colab": {
          "base_uri": "https://localhost:8080/"
        },
        "id": "vv0ldkXwVLie",
        "outputId": "05b27f57-42c9-4b0b-f0ea-1b2fa9be0689"
      },
      "source": [
        "fruits = [\"apple\", \"orange\", \"kiwi\", \"bananas\", \"avocado\"]\n",
        "print(fruits)\n",
        "sorted_list = sorted(fruits)\n",
        "print(sorted_list)"
      ],
      "execution_count": null,
      "outputs": [
        {
          "output_type": "stream",
          "text": [
            "['apple', 'orange', 'kiwi', 'bananas', 'avocado']\n",
            "['apple', 'avocado', 'bananas', 'kiwi', 'orange']\n"
          ],
          "name": "stdout"
        }
      ]
    },
    {
      "cell_type": "code",
      "metadata": {
        "colab": {
          "base_uri": "https://localhost:8080/"
        },
        "id": "0U02TWpJW3km",
        "outputId": "40d26b43-d9f9-4e63-9fd1-a05c0fc83564"
      },
      "source": [
        "fruits = [\"apple\", \"orange\", \"kiwi\", \"bananas\", \"avocado\"]\n",
        "print(fruits[0:3])"
      ],
      "execution_count": null,
      "outputs": [
        {
          "output_type": "stream",
          "text": [
            "['apple', 'orange', 'kiwi']\n"
          ],
          "name": "stdout"
        }
      ]
    },
    {
      "cell_type": "code",
      "metadata": {
        "colab": {
          "base_uri": "https://localhost:8080/"
        },
        "id": "vuI10Uwoghkm",
        "outputId": "4c0411f8-c376-49e5-8f3c-11df9b871b24"
      },
      "source": [
        "fruits = [\"apple\", \"orange\", \"kiwi\", \"bananas\", \"avocado\"]\n",
        "for names in fruits:\n",
        "    print(fruits[3:5])"
      ],
      "execution_count": null,
      "outputs": [
        {
          "output_type": "stream",
          "text": [
            "['bananas', 'avocado']\n",
            "['bananas', 'avocado']\n",
            "['bananas', 'avocado']\n",
            "['bananas', 'avocado']\n",
            "['bananas', 'avocado']\n"
          ],
          "name": "stdout"
        }
      ]
    },
    {
      "cell_type": "code",
      "metadata": {
        "id": "dv471UgF3Bx8"
      },
      "source": [
        ""
      ],
      "execution_count": null,
      "outputs": []
    }
  ]
}