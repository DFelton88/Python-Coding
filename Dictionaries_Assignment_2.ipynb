{
  "nbformat": 4,
  "nbformat_minor": 0,
  "metadata": {
    "colab": {
      "name": "Dictionaries Assignment 2.ipynb",
      "provenance": [],
      "collapsed_sections": [],
      "authorship_tag": "ABX9TyOmMwQNqJW0GnjL0vfz7XZw",
      "include_colab_link": true
    },
    "kernelspec": {
      "name": "python3",
      "display_name": "Python 3"
    },
    "language_info": {
      "name": "python"
    }
  },
  "cells": [
    {
      "cell_type": "markdown",
      "metadata": {
        "id": "view-in-github",
        "colab_type": "text"
      },
      "source": [
        "<a href=\"https://colab.research.google.com/github/DFelton88/Python-Coding/blob/master/Dictionaries_Assignment_2.ipynb\" target=\"_parent\"><img src=\"https://colab.research.google.com/assets/colab-badge.svg\" alt=\"Open In Colab\"/></a>"
      ]
    },
    {
      "cell_type": "code",
      "metadata": {
        "colab": {
          "base_uri": "https://localhost:8080/"
        },
        "id": "tQVOs2U4IlzE",
        "outputId": "67b73a02-8698-4990-c51a-48c3ac0d5e02"
      },
      "source": [
        "patient_1 = {'first_name': 'Raven', 'last_name': 'Symone'}\n",
        "print(patient_1['first_name'])\n",
        "print(patient_1['last_name'])"
      ],
      "execution_count": null,
      "outputs": [
        {
          "output_type": "stream",
          "text": [
            "Raven\n",
            "Symone\n"
          ],
          "name": "stdout"
        }
      ]
    },
    {
      "cell_type": "code",
      "metadata": {
        "colab": {
          "base_uri": "https://localhost:8080/"
        },
        "id": "DaOVzPQre95C",
        "outputId": "e27948b6-eb85-4200-8715-b1a79d9d93b3"
      },
      "source": [
        "patient_1 = {'first_name': 'Raven', 'last_name': 'Symone'}\n",
        "full_name = (patient_1['first_name'] + ' ' + (patient_1['last_name']))\n",
        "print('Hello there,' + full_name)"
      ],
      "execution_count": null,
      "outputs": [
        {
          "output_type": "stream",
          "text": [
            "Hello there,Raven Symone\n"
          ],
          "name": "stdout"
        }
      ]
    },
    {
      "cell_type": "code",
      "metadata": {
        "colab": {
          "base_uri": "https://localhost:8080/"
        },
        "id": "ozdmpsildVjQ",
        "outputId": "277bd634-0f23-44bc-a29f-34372b17a895"
      },
      "source": [
        "patient_1 = {'first_name': 'Raven', 'last_name': 'Symone'}\n",
        "full_name = (patient_1['first_name'] + ' ' + (patient_1['last_name']))\n",
        "print('Hello there,' + full_name +', '+ 'how are you?')"
      ],
      "execution_count": null,
      "outputs": [
        {
          "output_type": "stream",
          "text": [
            "Hello there,Raven Symone, how are you?\n"
          ],
          "name": "stdout"
        }
      ]
    },
    {
      "cell_type": "code",
      "metadata": {
        "colab": {
          "base_uri": "https://localhost:8080/"
        },
        "id": "i-XJr_qFfzHx",
        "outputId": "6bad6dfb-b0f3-46e0-e2c6-54265cd4b000"
      },
      "source": [
        "print('full_name,' + ' what is your favorite color?')\n",
        "print('full_name,' + ' what is your favorite song?')\n",
        "print('full_name,' + ' what is your favorite food?')"
      ],
      "execution_count": null,
      "outputs": [
        {
          "output_type": "stream",
          "text": [
            "full_name, what is your favorite color?\n",
            "full_name, what is your favorite song?\n",
            "full_name, what is your favorite food?\n"
          ],
          "name": "stdout"
        }
      ]
    }
  ]
}