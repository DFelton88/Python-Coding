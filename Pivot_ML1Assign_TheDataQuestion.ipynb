{
  "nbformat": 4,
  "nbformat_minor": 0,
  "metadata": {
    "colab": {
      "name": "Pivot_ML1Assign_TheDataQuestion.ipynb",
      "provenance": [],
      "collapsed_sections": [],
      "include_colab_link": true
    },
    "kernelspec": {
      "name": "python3",
      "display_name": "Python 3"
    }
  },
  "cells": [
    {
      "cell_type": "markdown",
      "metadata": {
        "id": "view-in-github",
        "colab_type": "text"
      },
      "source": [
        "<a href=\"https://colab.research.google.com/github/DFelton88/Python-Coding/blob/master/Pivot_ML1Assign_TheDataQuestion.ipynb\" target=\"_parent\"><img src=\"https://colab.research.google.com/assets/colab-badge.svg\" alt=\"Open In Colab\"/></a>"
      ]
    },
    {
      "cell_type": "markdown",
      "metadata": {
        "id": "i4JWqKuTeZNW"
      },
      "source": [
        "### ML1Assign: The Data Question\n",
        "\n",
        "This notebook contains the assignment related to ML1_TheDataQuestion.\n",
        "\n",
        "**My suggestion is that you should open the two notebooks side by side on your screen and work through the assignment in this notebook with the aid of examples in ML1_TheDataQuestion.**"
      ]
    },
    {
      "cell_type": "markdown",
      "metadata": {
        "id": "HlmodTTEDU1G"
      },
      "source": [
        "Let's get started by uploading data files from my github repository "
      ]
    },
    {
      "cell_type": "code",
      "metadata": {
        "id": "_b_d3Kcv-I9E",
        "colab": {
          "base_uri": "https://localhost:8080/"
        },
        "outputId": "fff08e17-d9e3-4b99-a414-46cab8ca62e2"
      },
      "source": [
        "# The following script will pull datasets from my github repository\n",
        "# and copy them into your notebook so that you can analyze the data.\n",
        "# An unbelievable amount of data is available publicly through this method.\n",
        "! git clone https://github.com/gacree/Pivot_DSC.git"
      ],
      "execution_count": null,
      "outputs": [
        {
          "output_type": "stream",
          "name": "stdout",
          "text": [
            "fatal: destination path 'Pivot_DSC' already exists and is not an empty directory.\n"
          ]
        }
      ]
    },
    {
      "cell_type": "markdown",
      "metadata": {
        "id": "1e8yg_wrnlqJ"
      },
      "source": [
        "### Let's take a look at books.csv\n",
        "\n",
        "Fill in and/or correct the missing code in the cells below. \n",
        "\n",
        "Again, **I would encourage you to use the ML1_TheDataQuestion as your reference.**"
      ]
    },
    {
      "cell_type": "code",
      "metadata": {
        "id": "C6GJCah9g8ef",
        "colab": {
          "base_uri": "https://localhost:8080/",
          "height": 206
        },
        "outputId": "834267b6-4efc-4f42-a6b7-4283b3398fba"
      },
      "source": [
        "#import pandas, the python package for data analytics\n",
        "import pandas as pd\n",
        "\n",
        "# Read the data file into a pandas dataframe entitled GoodBooks\n",
        "filename = 'Pivot_DSC/books.csv'\n",
        "GoodBooks = pd.read_csv(filename)\n",
        "\n",
        "# View the first 5 rows of the new dataframe\n",
        "GoodBooks.head()\n"
      ],
      "execution_count": null,
      "outputs": [
        {
          "output_type": "execute_result",
          "data": {
            "text/html": [
              "<div>\n",
              "<style scoped>\n",
              "    .dataframe tbody tr th:only-of-type {\n",
              "        vertical-align: middle;\n",
              "    }\n",
              "\n",
              "    .dataframe tbody tr th {\n",
              "        vertical-align: top;\n",
              "    }\n",
              "\n",
              "    .dataframe thead th {\n",
              "        text-align: right;\n",
              "    }\n",
              "</style>\n",
              "<table border=\"1\" class=\"dataframe\">\n",
              "  <thead>\n",
              "    <tr style=\"text-align: right;\">\n",
              "      <th></th>\n",
              "      <th>bookID</th>\n",
              "      <th>title</th>\n",
              "      <th>authors</th>\n",
              "      <th>average_rating</th>\n",
              "      <th>isbn</th>\n",
              "      <th>isbn13</th>\n",
              "      <th>language_code</th>\n",
              "      <th># num_pages</th>\n",
              "      <th>ratings_count</th>\n",
              "      <th>text_reviews_count</th>\n",
              "    </tr>\n",
              "  </thead>\n",
              "  <tbody>\n",
              "    <tr>\n",
              "      <th>0</th>\n",
              "      <td>1</td>\n",
              "      <td>Harry Potter and the Half-Blood Prince (Harry ...</td>\n",
              "      <td>J.K. Rowling-Mary GrandPré</td>\n",
              "      <td>4.56</td>\n",
              "      <td>0439785960</td>\n",
              "      <td>9780439785969</td>\n",
              "      <td>eng</td>\n",
              "      <td>652</td>\n",
              "      <td>1944099</td>\n",
              "      <td>26249</td>\n",
              "    </tr>\n",
              "    <tr>\n",
              "      <th>1</th>\n",
              "      <td>2</td>\n",
              "      <td>Harry Potter and the Order of the Phoenix (Har...</td>\n",
              "      <td>J.K. Rowling-Mary GrandPré</td>\n",
              "      <td>4.49</td>\n",
              "      <td>0439358078</td>\n",
              "      <td>9780439358071</td>\n",
              "      <td>eng</td>\n",
              "      <td>870</td>\n",
              "      <td>1996446</td>\n",
              "      <td>27613</td>\n",
              "    </tr>\n",
              "    <tr>\n",
              "      <th>2</th>\n",
              "      <td>3</td>\n",
              "      <td>Harry Potter and the Sorcerer's Stone (Harry P...</td>\n",
              "      <td>J.K. Rowling-Mary GrandPré</td>\n",
              "      <td>4.47</td>\n",
              "      <td>0439554934</td>\n",
              "      <td>9780439554930</td>\n",
              "      <td>eng</td>\n",
              "      <td>320</td>\n",
              "      <td>5629932</td>\n",
              "      <td>70390</td>\n",
              "    </tr>\n",
              "    <tr>\n",
              "      <th>3</th>\n",
              "      <td>4</td>\n",
              "      <td>Harry Potter and the Chamber of Secrets (Harry...</td>\n",
              "      <td>J.K. Rowling</td>\n",
              "      <td>4.41</td>\n",
              "      <td>0439554896</td>\n",
              "      <td>9780439554893</td>\n",
              "      <td>eng</td>\n",
              "      <td>352</td>\n",
              "      <td>6267</td>\n",
              "      <td>272</td>\n",
              "    </tr>\n",
              "    <tr>\n",
              "      <th>4</th>\n",
              "      <td>5</td>\n",
              "      <td>Harry Potter and the Prisoner of Azkaban (Harr...</td>\n",
              "      <td>J.K. Rowling-Mary GrandPré</td>\n",
              "      <td>4.55</td>\n",
              "      <td>043965548X</td>\n",
              "      <td>9780439655484</td>\n",
              "      <td>eng</td>\n",
              "      <td>435</td>\n",
              "      <td>2149872</td>\n",
              "      <td>33964</td>\n",
              "    </tr>\n",
              "  </tbody>\n",
              "</table>\n",
              "</div>"
            ],
            "text/plain": [
              "   bookID  ... text_reviews_count\n",
              "0       1  ...              26249\n",
              "1       2  ...              27613\n",
              "2       3  ...              70390\n",
              "3       4  ...                272\n",
              "4       5  ...              33964\n",
              "\n",
              "[5 rows x 10 columns]"
            ]
          },
          "metadata": {},
          "execution_count": 37
        }
      ]
    },
    {
      "cell_type": "markdown",
      "metadata": {
        "id": "TolJ-vsGm0jY"
      },
      "source": [
        "## Consider the columns of this data set:"
      ]
    },
    {
      "cell_type": "code",
      "metadata": {
        "id": "J1I1YrZ7nNYl",
        "colab": {
          "base_uri": "https://localhost:8080/"
        },
        "outputId": "0428924d-59e4-4f40-d6db-ae910d4f7a51"
      },
      "source": [
        "# Use the .columns attribute to list the columns of the GoodBooks dataframe\n",
        "GoodBooks.columns\n"
      ],
      "execution_count": null,
      "outputs": [
        {
          "output_type": "execute_result",
          "data": {
            "text/plain": [
              "Index(['bookID', 'title', 'authors', 'average_rating', 'isbn', 'isbn13',\n",
              "       'language_code', '# num_pages', 'ratings_count', 'text_reviews_count'],\n",
              "      dtype='object')"
            ]
          },
          "metadata": {},
          "execution_count": 38
        }
      ]
    },
    {
      "cell_type": "markdown",
      "metadata": {
        "id": "cS8IMSkr6MUq"
      },
      "source": [
        "### Before we move on, we should make sure that we have a clear understanding of the data in our possession. \n",
        "\n",
        "We will create a simple **Data Dictionary** to provide insight into the contents of our data.\n",
        "\n",
        "Several of the columns contain information that is somewhat self-explanatory. Others perhaps may need some clarification."
      ]
    },
    {
      "cell_type": "markdown",
      "metadata": {
        "id": "TLWmgEmqW3Qt"
      },
      "source": [
        "### We should also determine whether or not there is any documentation for the data concerning its origin, any editing along the way ... and the contents of the data. \n",
        "\n",
        "In our case, Kaggle includes a brief overview and description of their datasets provided by each contributor.\n",
        "\n",
        "https://www.kaggle.com/jealousleopard/goodreadsbooks\n",
        "\n",
        "### Double click the cell below ...\n",
        "### and complete the descriptions as you are able from the information found at the link above.\n"
      ]
    },
    {
      "cell_type": "markdown",
      "metadata": {
        "id": "ar3d47uYgTrH"
      },
      "source": [
        "### Contents/Context: \n",
        " \n",
        "\n",
        "### Origin/Source: \n",
        "\n",
        "\n",
        "\n",
        "### Additional information:\n",
        "\n",
        "\n",
        "\n",
        "."
      ]
    },
    {
      "cell_type": "markdown",
      "metadata": {
        "id": "tipEGI--jYlR"
      },
      "source": [
        "### Which of the following questions could be explored using this data? ... and which ones could not? \n",
        "For those that could not, describe the additional data and/or effort that would be necessary to complete the task desired.\n",
        "\n",
        "1) Which author has the most books listed? Yes/No? Explain.\n",
        "\n",
        "2) Explore the differences in ratings between historical fiction and mysteries. Yes/No? Explain.\n",
        "\n",
        "3) Compare the ratings of 1st (early) books of an author versus those that follow? Yes/No? Explain.\n",
        "\n",
        "4) Is there a correlation between the length of a book and its rating? Yes/No? Explain.\n",
        "\n",
        "5) What is the distribution of page length in books with the highest ratings? Yes/No? Explain.\n",
        "\n",
        "6) Do ratings tend to be higher for male or female authors? No\n",
        "\n",
        "7) Are the ratings for books written in English distributed similarly to those which are not? Yes/No? Explain."
      ]
    },
    {
      "cell_type": "code",
      "metadata": {
        "colab": {
          "base_uri": "https://localhost:8080/"
        },
        "id": "EKpA4H6a-e2X",
        "outputId": "fb08c8a7-dce1-4d11-f781-a057f7b7e537"
      },
      "source": [
        "GoodBooks['authors'].is_unique"
      ],
      "execution_count": null,
      "outputs": [
        {
          "output_type": "execute_result",
          "data": {
            "text/plain": [
              "False"
            ]
          },
          "metadata": {},
          "execution_count": 39
        }
      ]
    },
    {
      "cell_type": "code",
      "metadata": {
        "colab": {
          "base_uri": "https://localhost:8080/",
          "height": 206
        },
        "id": "l6SB0tPMgiFs",
        "outputId": "1d06b47f-9f3c-4f5b-dcd6-af198a12faa8"
      },
      "source": [
        "GoodBooks.head()"
      ],
      "execution_count": null,
      "outputs": [
        {
          "output_type": "execute_result",
          "data": {
            "text/html": [
              "<div>\n",
              "<style scoped>\n",
              "    .dataframe tbody tr th:only-of-type {\n",
              "        vertical-align: middle;\n",
              "    }\n",
              "\n",
              "    .dataframe tbody tr th {\n",
              "        vertical-align: top;\n",
              "    }\n",
              "\n",
              "    .dataframe thead th {\n",
              "        text-align: right;\n",
              "    }\n",
              "</style>\n",
              "<table border=\"1\" class=\"dataframe\">\n",
              "  <thead>\n",
              "    <tr style=\"text-align: right;\">\n",
              "      <th></th>\n",
              "      <th>bookID</th>\n",
              "      <th>title</th>\n",
              "      <th>authors</th>\n",
              "      <th>average_rating</th>\n",
              "      <th>isbn</th>\n",
              "      <th>isbn13</th>\n",
              "      <th>language_code</th>\n",
              "      <th># num_pages</th>\n",
              "      <th>ratings_count</th>\n",
              "      <th>text_reviews_count</th>\n",
              "    </tr>\n",
              "  </thead>\n",
              "  <tbody>\n",
              "    <tr>\n",
              "      <th>0</th>\n",
              "      <td>1</td>\n",
              "      <td>Harry Potter and the Half-Blood Prince (Harry ...</td>\n",
              "      <td>J.K. Rowling-Mary GrandPré</td>\n",
              "      <td>4.56</td>\n",
              "      <td>0439785960</td>\n",
              "      <td>9780439785969</td>\n",
              "      <td>eng</td>\n",
              "      <td>652</td>\n",
              "      <td>1944099</td>\n",
              "      <td>26249</td>\n",
              "    </tr>\n",
              "    <tr>\n",
              "      <th>1</th>\n",
              "      <td>2</td>\n",
              "      <td>Harry Potter and the Order of the Phoenix (Har...</td>\n",
              "      <td>J.K. Rowling-Mary GrandPré</td>\n",
              "      <td>4.49</td>\n",
              "      <td>0439358078</td>\n",
              "      <td>9780439358071</td>\n",
              "      <td>eng</td>\n",
              "      <td>870</td>\n",
              "      <td>1996446</td>\n",
              "      <td>27613</td>\n",
              "    </tr>\n",
              "    <tr>\n",
              "      <th>2</th>\n",
              "      <td>3</td>\n",
              "      <td>Harry Potter and the Sorcerer's Stone (Harry P...</td>\n",
              "      <td>J.K. Rowling-Mary GrandPré</td>\n",
              "      <td>4.47</td>\n",
              "      <td>0439554934</td>\n",
              "      <td>9780439554930</td>\n",
              "      <td>eng</td>\n",
              "      <td>320</td>\n",
              "      <td>5629932</td>\n",
              "      <td>70390</td>\n",
              "    </tr>\n",
              "    <tr>\n",
              "      <th>3</th>\n",
              "      <td>4</td>\n",
              "      <td>Harry Potter and the Chamber of Secrets (Harry...</td>\n",
              "      <td>J.K. Rowling</td>\n",
              "      <td>4.41</td>\n",
              "      <td>0439554896</td>\n",
              "      <td>9780439554893</td>\n",
              "      <td>eng</td>\n",
              "      <td>352</td>\n",
              "      <td>6267</td>\n",
              "      <td>272</td>\n",
              "    </tr>\n",
              "    <tr>\n",
              "      <th>4</th>\n",
              "      <td>5</td>\n",
              "      <td>Harry Potter and the Prisoner of Azkaban (Harr...</td>\n",
              "      <td>J.K. Rowling-Mary GrandPré</td>\n",
              "      <td>4.55</td>\n",
              "      <td>043965548X</td>\n",
              "      <td>9780439655484</td>\n",
              "      <td>eng</td>\n",
              "      <td>435</td>\n",
              "      <td>2149872</td>\n",
              "      <td>33964</td>\n",
              "    </tr>\n",
              "  </tbody>\n",
              "</table>\n",
              "</div>"
            ],
            "text/plain": [
              "   bookID  ... text_reviews_count\n",
              "0       1  ...              26249\n",
              "1       2  ...              27613\n",
              "2       3  ...              70390\n",
              "3       4  ...                272\n",
              "4       5  ...              33964\n",
              "\n",
              "[5 rows x 10 columns]"
            ]
          },
          "metadata": {},
          "execution_count": 40
        }
      ]
    },
    {
      "cell_type": "code",
      "metadata": {
        "colab": {
          "base_uri": "https://localhost:8080/"
        },
        "id": "CeBVzWJ7hNdm",
        "outputId": "8bf50f2c-4f55-435f-bc2c-baade944eb9e"
      },
      "source": [
        "GoodBooks.count()"
      ],
      "execution_count": null,
      "outputs": [
        {
          "output_type": "execute_result",
          "data": {
            "text/plain": [
              "bookID                3500\n",
              "title                 3500\n",
              "authors               3500\n",
              "average_rating        3500\n",
              "isbn                  3500\n",
              "isbn13                3500\n",
              "language_code         3500\n",
              "# num_pages           3500\n",
              "ratings_count         3500\n",
              "text_reviews_count    3500\n",
              "dtype: int64"
            ]
          },
          "metadata": {},
          "execution_count": 41
        }
      ]
    },
    {
      "cell_type": "code",
      "metadata": {
        "id": "__wlSVYypFM3",
        "colab": {
          "base_uri": "https://localhost:8080/"
        },
        "outputId": "3e3dcaa1-ddd9-4e45-a45e-9fd0d7ef418d"
      },
      "source": [
        "#Which author has the most books listed? Yes/No? Explain.\n",
        "GoodBooks['authors'].value_counts(ascending=False)"
      ],
      "execution_count": null,
      "outputs": [
        {
          "output_type": "execute_result",
          "data": {
            "text/plain": [
              "Dick Francis                                   28\n",
              "Stephen King                                   26\n",
              "Kurt Vonnegut                                  23\n",
              "Orson Scott Card                               21\n",
              "Roald Dahl-Quentin Blake                       17\n",
              "                                               ..\n",
              "Bill Cosby-Varnette P. Honeywood                1\n",
              "William Shakespeare-Harold Bloom-Rex Gibson     1\n",
              "Julia Wilkinson                                 1\n",
              "Paul Auster-Art Spiegelman-Luc Sante            1\n",
              "John Steinbeck-Richard Astro                    1\n",
              "Name: authors, Length: 2166, dtype: int64"
            ]
          },
          "metadata": {},
          "execution_count": 42
        }
      ]
    },
    {
      "cell_type": "code",
      "metadata": {
        "colab": {
          "base_uri": "https://localhost:8080/",
          "height": 424
        },
        "id": "gD_SvkBeR1Ct",
        "outputId": "b6942da0-7c26-45de-dcc4-4a34dde7232b"
      },
      "source": [
        "#What is the distribution of page length in books with the highest ratings? Yes/No? Explain.\n",
        "GoodBooks['ratings_count'].value_counts(1)\n",
        "GoodBooks"
      ],
      "execution_count": null,
      "outputs": [
        {
          "output_type": "execute_result",
          "data": {
            "text/html": [
              "<div>\n",
              "<style scoped>\n",
              "    .dataframe tbody tr th:only-of-type {\n",
              "        vertical-align: middle;\n",
              "    }\n",
              "\n",
              "    .dataframe tbody tr th {\n",
              "        vertical-align: top;\n",
              "    }\n",
              "\n",
              "    .dataframe thead th {\n",
              "        text-align: right;\n",
              "    }\n",
              "</style>\n",
              "<table border=\"1\" class=\"dataframe\">\n",
              "  <thead>\n",
              "    <tr style=\"text-align: right;\">\n",
              "      <th></th>\n",
              "      <th>bookID</th>\n",
              "      <th>title</th>\n",
              "      <th>authors</th>\n",
              "      <th>average_rating</th>\n",
              "      <th>isbn</th>\n",
              "      <th>isbn13</th>\n",
              "      <th>language_code</th>\n",
              "      <th># num_pages</th>\n",
              "      <th>ratings_count</th>\n",
              "      <th>text_reviews_count</th>\n",
              "    </tr>\n",
              "  </thead>\n",
              "  <tbody>\n",
              "    <tr>\n",
              "      <th>0</th>\n",
              "      <td>1</td>\n",
              "      <td>Harry Potter and the Half-Blood Prince (Harry ...</td>\n",
              "      <td>J.K. Rowling-Mary GrandPré</td>\n",
              "      <td>4.56</td>\n",
              "      <td>0439785960</td>\n",
              "      <td>9780439785969</td>\n",
              "      <td>eng</td>\n",
              "      <td>652</td>\n",
              "      <td>1944099</td>\n",
              "      <td>26249</td>\n",
              "    </tr>\n",
              "    <tr>\n",
              "      <th>1</th>\n",
              "      <td>2</td>\n",
              "      <td>Harry Potter and the Order of the Phoenix (Har...</td>\n",
              "      <td>J.K. Rowling-Mary GrandPré</td>\n",
              "      <td>4.49</td>\n",
              "      <td>0439358078</td>\n",
              "      <td>9780439358071</td>\n",
              "      <td>eng</td>\n",
              "      <td>870</td>\n",
              "      <td>1996446</td>\n",
              "      <td>27613</td>\n",
              "    </tr>\n",
              "    <tr>\n",
              "      <th>2</th>\n",
              "      <td>3</td>\n",
              "      <td>Harry Potter and the Sorcerer's Stone (Harry P...</td>\n",
              "      <td>J.K. Rowling-Mary GrandPré</td>\n",
              "      <td>4.47</td>\n",
              "      <td>0439554934</td>\n",
              "      <td>9780439554930</td>\n",
              "      <td>eng</td>\n",
              "      <td>320</td>\n",
              "      <td>5629932</td>\n",
              "      <td>70390</td>\n",
              "    </tr>\n",
              "    <tr>\n",
              "      <th>3</th>\n",
              "      <td>4</td>\n",
              "      <td>Harry Potter and the Chamber of Secrets (Harry...</td>\n",
              "      <td>J.K. Rowling</td>\n",
              "      <td>4.41</td>\n",
              "      <td>0439554896</td>\n",
              "      <td>9780439554893</td>\n",
              "      <td>eng</td>\n",
              "      <td>352</td>\n",
              "      <td>6267</td>\n",
              "      <td>272</td>\n",
              "    </tr>\n",
              "    <tr>\n",
              "      <th>4</th>\n",
              "      <td>5</td>\n",
              "      <td>Harry Potter and the Prisoner of Azkaban (Harr...</td>\n",
              "      <td>J.K. Rowling-Mary GrandPré</td>\n",
              "      <td>4.55</td>\n",
              "      <td>043965548X</td>\n",
              "      <td>9780439655484</td>\n",
              "      <td>eng</td>\n",
              "      <td>435</td>\n",
              "      <td>2149872</td>\n",
              "      <td>33964</td>\n",
              "    </tr>\n",
              "    <tr>\n",
              "      <th>...</th>\n",
              "      <td>...</td>\n",
              "      <td>...</td>\n",
              "      <td>...</td>\n",
              "      <td>...</td>\n",
              "      <td>...</td>\n",
              "      <td>...</td>\n",
              "      <td>...</td>\n",
              "      <td>...</td>\n",
              "      <td>...</td>\n",
              "      <td>...</td>\n",
              "    </tr>\n",
              "    <tr>\n",
              "      <th>3495</th>\n",
              "      <td>10846</td>\n",
              "      <td>Gatsby's Girl</td>\n",
              "      <td>Caroline Preston</td>\n",
              "      <td>3.53</td>\n",
              "      <td>0618537252</td>\n",
              "      <td>9780618537259</td>\n",
              "      <td>en-US</td>\n",
              "      <td>312</td>\n",
              "      <td>841</td>\n",
              "      <td>120</td>\n",
              "    </tr>\n",
              "    <tr>\n",
              "      <th>3496</th>\n",
              "      <td>10847</td>\n",
              "      <td>Under the Banner of Heaven: A Story of Violent...</td>\n",
              "      <td>Jon Krakauer</td>\n",
              "      <td>3.99</td>\n",
              "      <td>0330419129</td>\n",
              "      <td>9780330419123</td>\n",
              "      <td>eng</td>\n",
              "      <td>369</td>\n",
              "      <td>126672</td>\n",
              "      <td>8179</td>\n",
              "    </tr>\n",
              "    <tr>\n",
              "      <th>3497</th>\n",
              "      <td>10848</td>\n",
              "      <td>Into the Wild</td>\n",
              "      <td>Jon Krakauer</td>\n",
              "      <td>3.97</td>\n",
              "      <td>0330351699</td>\n",
              "      <td>9780330351690</td>\n",
              "      <td>eng</td>\n",
              "      <td>206</td>\n",
              "      <td>1268</td>\n",
              "      <td>149</td>\n",
              "    </tr>\n",
              "    <tr>\n",
              "      <th>3498</th>\n",
              "      <td>10851</td>\n",
              "      <td>Into Thin Air: Personal Account of the Everest...</td>\n",
              "      <td>Jon Krakauer</td>\n",
              "      <td>4.15</td>\n",
              "      <td>0333695275</td>\n",
              "      <td>9780333695272</td>\n",
              "      <td>eng</td>\n",
              "      <td>293</td>\n",
              "      <td>130</td>\n",
              "      <td>22</td>\n",
              "    </tr>\n",
              "    <tr>\n",
              "      <th>3499</th>\n",
              "      <td>10853</td>\n",
              "      <td>In Search of Captain Zero: A Surfer's Road Tri...</td>\n",
              "      <td>Allan C. Weisbecker</td>\n",
              "      <td>4.15</td>\n",
              "      <td>1585421774</td>\n",
              "      <td>9781585421770</td>\n",
              "      <td>eng</td>\n",
              "      <td>352</td>\n",
              "      <td>1625</td>\n",
              "      <td>164</td>\n",
              "    </tr>\n",
              "  </tbody>\n",
              "</table>\n",
              "<p>3500 rows × 10 columns</p>\n",
              "</div>"
            ],
            "text/plain": [
              "      bookID  ... text_reviews_count\n",
              "0          1  ...              26249\n",
              "1          2  ...              27613\n",
              "2          3  ...              70390\n",
              "3          4  ...                272\n",
              "4          5  ...              33964\n",
              "...      ...  ...                ...\n",
              "3495   10846  ...                120\n",
              "3496   10847  ...               8179\n",
              "3497   10848  ...                149\n",
              "3498   10851  ...                 22\n",
              "3499   10853  ...                164\n",
              "\n",
              "[3500 rows x 10 columns]"
            ]
          },
          "metadata": {},
          "execution_count": 43
        }
      ]
    },
    {
      "cell_type": "code",
      "metadata": {
        "colab": {
          "base_uri": "https://localhost:8080/",
          "height": 362
        },
        "id": "FsU6nITYmyli",
        "outputId": "d62e96a4-8ba6-40c4-b091-bd1790b3a2cd"
      },
      "source": [
        " #Compare the ratings of 1st (early) books of an author versus those that follow? Yes/No? Explain\n",
        "GoodBooks_author= GoodBooks.loc[(GoodBooks.authors == 'Dick Francis') & (GoodBooks.ratings_count), :]\n",
        "GoodBooks_author"
      ],
      "execution_count": null,
      "outputs": [
        {
          "output_type": "execute_result",
          "data": {
            "text/html": [
              "<div>\n",
              "<style scoped>\n",
              "    .dataframe tbody tr th:only-of-type {\n",
              "        vertical-align: middle;\n",
              "    }\n",
              "\n",
              "    .dataframe tbody tr th {\n",
              "        vertical-align: top;\n",
              "    }\n",
              "\n",
              "    .dataframe thead th {\n",
              "        text-align: right;\n",
              "    }\n",
              "</style>\n",
              "<table border=\"1\" class=\"dataframe\">\n",
              "  <thead>\n",
              "    <tr style=\"text-align: right;\">\n",
              "      <th></th>\n",
              "      <th>bookID</th>\n",
              "      <th>title</th>\n",
              "      <th>authors</th>\n",
              "      <th>average_rating</th>\n",
              "      <th>isbn</th>\n",
              "      <th>isbn13</th>\n",
              "      <th>language_code</th>\n",
              "      <th># num_pages</th>\n",
              "      <th>ratings_count</th>\n",
              "      <th>text_reviews_count</th>\n",
              "    </tr>\n",
              "  </thead>\n",
              "  <tbody>\n",
              "    <tr>\n",
              "      <th>2754</th>\n",
              "      <td>8520</td>\n",
              "      <td>Under Orders (Sid Halley  #4)</td>\n",
              "      <td>Dick Francis</td>\n",
              "      <td>3.86</td>\n",
              "      <td>0399154000</td>\n",
              "      <td>9780399154003</td>\n",
              "      <td>eng</td>\n",
              "      <td>308</td>\n",
              "      <td>3985</td>\n",
              "      <td>243</td>\n",
              "    </tr>\n",
              "    <tr>\n",
              "      <th>2756</th>\n",
              "      <td>8523</td>\n",
              "      <td>Forfeit</td>\n",
              "      <td>Dick Francis</td>\n",
              "      <td>3.92</td>\n",
              "      <td>0425201910</td>\n",
              "      <td>9780425201916</td>\n",
              "      <td>eng</td>\n",
              "      <td>256</td>\n",
              "      <td>2451</td>\n",
              "      <td>60</td>\n",
              "    </tr>\n",
              "    <tr>\n",
              "      <th>2757</th>\n",
              "      <td>8525</td>\n",
              "      <td>Dead Cert</td>\n",
              "      <td>Dick Francis</td>\n",
              "      <td>3.96</td>\n",
              "      <td>0425194973</td>\n",
              "      <td>9780425194973</td>\n",
              "      <td>eng</td>\n",
              "      <td>277</td>\n",
              "      <td>4817</td>\n",
              "      <td>121</td>\n",
              "    </tr>\n",
              "    <tr>\n",
              "      <th>2763</th>\n",
              "      <td>8537</td>\n",
              "      <td>Nerve</td>\n",
              "      <td>Dick Francis</td>\n",
              "      <td>4.02</td>\n",
              "      <td>0515123463</td>\n",
              "      <td>9780515123463</td>\n",
              "      <td>eng</td>\n",
              "      <td>320</td>\n",
              "      <td>3471</td>\n",
              "      <td>106</td>\n",
              "    </tr>\n",
              "    <tr>\n",
              "      <th>2765</th>\n",
              "      <td>8540</td>\n",
              "      <td>Blood Sport</td>\n",
              "      <td>Dick Francis</td>\n",
              "      <td>3.87</td>\n",
              "      <td>0425199169</td>\n",
              "      <td>9780425199169</td>\n",
              "      <td>eng</td>\n",
              "      <td>288</td>\n",
              "      <td>4475</td>\n",
              "      <td>109</td>\n",
              "    </tr>\n",
              "    <tr>\n",
              "      <th>2767</th>\n",
              "      <td>8542</td>\n",
              "      <td>10 lb Penalty</td>\n",
              "      <td>Dick Francis</td>\n",
              "      <td>3.89</td>\n",
              "      <td>042519745X</td>\n",
              "      <td>9780425197455</td>\n",
              "      <td>eng</td>\n",
              "      <td>320</td>\n",
              "      <td>3363</td>\n",
              "      <td>171</td>\n",
              "    </tr>\n",
              "    <tr>\n",
              "      <th>2770</th>\n",
              "      <td>8546</td>\n",
              "      <td>Field of Thirteen</td>\n",
              "      <td>Dick Francis</td>\n",
              "      <td>3.73</td>\n",
              "      <td>042519499X</td>\n",
              "      <td>9780425194997</td>\n",
              "      <td>eng</td>\n",
              "      <td>304</td>\n",
              "      <td>1987</td>\n",
              "      <td>84</td>\n",
              "    </tr>\n",
              "    <tr>\n",
              "      <th>2776</th>\n",
              "      <td>8568</td>\n",
              "      <td>Odds Against (Sid Halley  #1)</td>\n",
              "      <td>Dick Francis</td>\n",
              "      <td>4.05</td>\n",
              "      <td>0425198006</td>\n",
              "      <td>9780425198001</td>\n",
              "      <td>eng</td>\n",
              "      <td>288</td>\n",
              "      <td>3613</td>\n",
              "      <td>123</td>\n",
              "    </tr>\n",
              "    <tr>\n",
              "      <th>2777</th>\n",
              "      <td>8570</td>\n",
              "      <td>Bonecrack</td>\n",
              "      <td>Dick Francis</td>\n",
              "      <td>3.97</td>\n",
              "      <td>0671428195</td>\n",
              "      <td>9780671428198</td>\n",
              "      <td>eng</td>\n",
              "      <td>222</td>\n",
              "      <td>3</td>\n",
              "      <td>0</td>\n",
              "    </tr>\n",
              "    <tr>\n",
              "      <th>2781</th>\n",
              "      <td>8583</td>\n",
              "      <td>Come to Grief / Decider / Wild Horses</td>\n",
              "      <td>Dick Francis</td>\n",
              "      <td>4.21</td>\n",
              "      <td>0399143068</td>\n",
              "      <td>9780399143069</td>\n",
              "      <td>eng</td>\n",
              "      <td>707</td>\n",
              "      <td>29</td>\n",
              "      <td>0</td>\n",
              "    </tr>\n",
              "  </tbody>\n",
              "</table>\n",
              "</div>"
            ],
            "text/plain": [
              "      bookID  ... text_reviews_count\n",
              "2754    8520  ...                243\n",
              "2756    8523  ...                 60\n",
              "2757    8525  ...                121\n",
              "2763    8537  ...                106\n",
              "2765    8540  ...                109\n",
              "2767    8542  ...                171\n",
              "2770    8546  ...                 84\n",
              "2776    8568  ...                123\n",
              "2777    8570  ...                  0\n",
              "2781    8583  ...                  0\n",
              "\n",
              "[10 rows x 10 columns]"
            ]
          },
          "metadata": {},
          "execution_count": 45
        }
      ]
    },
    {
      "cell_type": "code",
      "metadata": {
        "colab": {
          "base_uri": "https://localhost:8080/",
          "height": 206
        },
        "id": "7sSIjEUhrNTN",
        "outputId": "655476e4-e19f-4c0b-8c9f-280569e09ee3"
      },
      "source": [
        "#Is there a correlation between the length of a book and its rating? No\n",
        "GoodBooks['ratings_count'].value_counts(1)\n",
        "GoodBooks.tail()"
      ],
      "execution_count": null,
      "outputs": [
        {
          "output_type": "execute_result",
          "data": {
            "text/html": [
              "<div>\n",
              "<style scoped>\n",
              "    .dataframe tbody tr th:only-of-type {\n",
              "        vertical-align: middle;\n",
              "    }\n",
              "\n",
              "    .dataframe tbody tr th {\n",
              "        vertical-align: top;\n",
              "    }\n",
              "\n",
              "    .dataframe thead th {\n",
              "        text-align: right;\n",
              "    }\n",
              "</style>\n",
              "<table border=\"1\" class=\"dataframe\">\n",
              "  <thead>\n",
              "    <tr style=\"text-align: right;\">\n",
              "      <th></th>\n",
              "      <th>bookID</th>\n",
              "      <th>title</th>\n",
              "      <th>authors</th>\n",
              "      <th>average_rating</th>\n",
              "      <th>isbn</th>\n",
              "      <th>isbn13</th>\n",
              "      <th>language_code</th>\n",
              "      <th># num_pages</th>\n",
              "      <th>ratings_count</th>\n",
              "      <th>text_reviews_count</th>\n",
              "    </tr>\n",
              "  </thead>\n",
              "  <tbody>\n",
              "    <tr>\n",
              "      <th>3495</th>\n",
              "      <td>10846</td>\n",
              "      <td>Gatsby's Girl</td>\n",
              "      <td>Caroline Preston</td>\n",
              "      <td>3.53</td>\n",
              "      <td>0618537252</td>\n",
              "      <td>9780618537259</td>\n",
              "      <td>en-US</td>\n",
              "      <td>312</td>\n",
              "      <td>841</td>\n",
              "      <td>120</td>\n",
              "    </tr>\n",
              "    <tr>\n",
              "      <th>3496</th>\n",
              "      <td>10847</td>\n",
              "      <td>Under the Banner of Heaven: A Story of Violent...</td>\n",
              "      <td>Jon Krakauer</td>\n",
              "      <td>3.99</td>\n",
              "      <td>0330419129</td>\n",
              "      <td>9780330419123</td>\n",
              "      <td>eng</td>\n",
              "      <td>369</td>\n",
              "      <td>126672</td>\n",
              "      <td>8179</td>\n",
              "    </tr>\n",
              "    <tr>\n",
              "      <th>3497</th>\n",
              "      <td>10848</td>\n",
              "      <td>Into the Wild</td>\n",
              "      <td>Jon Krakauer</td>\n",
              "      <td>3.97</td>\n",
              "      <td>0330351699</td>\n",
              "      <td>9780330351690</td>\n",
              "      <td>eng</td>\n",
              "      <td>206</td>\n",
              "      <td>1268</td>\n",
              "      <td>149</td>\n",
              "    </tr>\n",
              "    <tr>\n",
              "      <th>3498</th>\n",
              "      <td>10851</td>\n",
              "      <td>Into Thin Air: Personal Account of the Everest...</td>\n",
              "      <td>Jon Krakauer</td>\n",
              "      <td>4.15</td>\n",
              "      <td>0333695275</td>\n",
              "      <td>9780333695272</td>\n",
              "      <td>eng</td>\n",
              "      <td>293</td>\n",
              "      <td>130</td>\n",
              "      <td>22</td>\n",
              "    </tr>\n",
              "    <tr>\n",
              "      <th>3499</th>\n",
              "      <td>10853</td>\n",
              "      <td>In Search of Captain Zero: A Surfer's Road Tri...</td>\n",
              "      <td>Allan C. Weisbecker</td>\n",
              "      <td>4.15</td>\n",
              "      <td>1585421774</td>\n",
              "      <td>9781585421770</td>\n",
              "      <td>eng</td>\n",
              "      <td>352</td>\n",
              "      <td>1625</td>\n",
              "      <td>164</td>\n",
              "    </tr>\n",
              "  </tbody>\n",
              "</table>\n",
              "</div>"
            ],
            "text/plain": [
              "      bookID  ... text_reviews_count\n",
              "3495   10846  ...                120\n",
              "3496   10847  ...               8179\n",
              "3497   10848  ...                149\n",
              "3498   10851  ...                 22\n",
              "3499   10853  ...                164\n",
              "\n",
              "[5 rows x 10 columns]"
            ]
          },
          "metadata": {},
          "execution_count": 49
        }
      ]
    },
    {
      "cell_type": "markdown",
      "metadata": {
        "id": "_VFljGSXgTyb"
      },
      "source": [
        "### What other questions come to mind as you consider the GoodBooks data?"
      ]
    },
    {
      "cell_type": "markdown",
      "metadata": {
        "id": "Sxg0AFZJ7fv2"
      },
      "source": [
        "### GoodBooks columns are listed below. I have given a few examples that offer a brief description of the contents of the column along with the data type (string, integer, date, etc.) and format. Take the time to complete the same task for the remainder of the columns given.\n",
        "\n",
        "'bookID': integer - 1,2,3, ... - A unique (but not consecutive) id number for each book\n",
        "\n",
        "'title': \n",
        "\n",
        "'authors': \n",
        "\n",
        "'average_rating': float - from 0 - 5.00 - The average rating of the book.\n",
        "\n",
        "'isbn': integer - 10-digit - International Standard Book Number \n",
        "\n",
        "'isbn13': integer - 13-digit - International Standard Book Number \n",
        "\n",
        "'language_code': string - (eng, en-US, fre, spa, etc.) - Primary language of the book\n",
        "\n",
        "'num_pages'\n",
        "\n",
        "'ratings_count'\n",
        "\n",
        "'text_reviews_count'\n",
        "\n",
        "'publication_date'\n",
        "\n",
        "'publisher'"
      ]
    },
    {
      "cell_type": "markdown",
      "metadata": {
        "id": "g23IcBwAi_YP"
      },
      "source": [
        "### List your questions below:\n",
        "\n",
        "1) Which author has the most books listed? Yes, Dick Francis.  \n",
        "\n",
        "2)What is the distribution of page length in books with the highest ratings? Harry Potter and the Half-Blood Prince, 652 pages.\n",
        "\n",
        "3) Compare the ratings of 1st (early) books of an author versus those that follow? Dick Francis, Odds Against(1965) and Under Orders (2006)\n",
        "\n",
        "4) Is there a correlation between the length of a book and its rating? No, the \n",
        "book with the highest rating Harry Potter and the Half-Blood Prince has 652 pages. The lowest rating book is Gatsby's Girl\tby Caroline Preston\tat 3.53\twith 312 pages."
      ]
    }
  ]
}