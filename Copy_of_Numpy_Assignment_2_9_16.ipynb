{
  "nbformat": 4,
  "nbformat_minor": 0,
  "metadata": {
    "colab": {
      "name": "Copy of Numpy Assignment 2-9/16.ipynb",
      "provenance": [],
      "authorship_tag": "ABX9TyP2tax5koXH/b9r81mvxgcZ",
      "include_colab_link": true
    },
    "kernelspec": {
      "name": "python3",
      "display_name": "Python 3"
    },
    "language_info": {
      "name": "python"
    }
  },
  "cells": [
    {
      "cell_type": "markdown",
      "metadata": {
        "id": "view-in-github",
        "colab_type": "text"
      },
      "source": [
        "<a href=\"https://colab.research.google.com/github/DFelton88/Python-Coding/blob/master/Copy_of_Numpy_Assignment_2_9_16.ipynb\" target=\"_parent\"><img src=\"https://colab.research.google.com/assets/colab-badge.svg\" alt=\"Open In Colab\"/></a>"
      ]
    },
    {
      "cell_type": "code",
      "metadata": {
        "id": "1y8rJpIiniXY"
      },
      "source": [
        "import numpy as np"
      ],
      "execution_count": null,
      "outputs": []
    },
    {
      "cell_type": "code",
      "metadata": {
        "colab": {
          "base_uri": "https://localhost:8080/"
        },
        "id": "cUEub3rCnotD",
        "outputId": "f8adf045-e722-48f0-c8f0-140559bd6f94"
      },
      "source": [
        "#Create an array with 2 dimensions using the following values.\n",
        "States_and_FootballTeams= np.array([['New England', 'New York','Tennessee','Carolina','Dallas'],['Patriots','Giants','Titans','Panthers','Cowboys']])\n",
        "print(States_and_FootballTeams)"
      ],
      "execution_count": null,
      "outputs": [
        {
          "output_type": "stream",
          "name": "stdout",
          "text": [
            "[['New England' 'New York' 'Tennessee' 'Carolina' 'Dallas']\n",
            " ['Patriots' 'Giants' 'Titans' 'Panthers' 'Cowboys']]\n"
          ]
        }
      ]
    },
    {
      "cell_type": "code",
      "metadata": {
        "colab": {
          "base_uri": "https://localhost:8080/"
        },
        "id": "3UdOKCvTn4xo",
        "outputId": "8d898de7-e163-4ec4-d8f8-fb53be0bf351"
      },
      "source": [
        "#Print the the number of dimensions, shape, size and data type of the array.\n",
        "States_and_FootballTeams.ndim"
      ],
      "execution_count": null,
      "outputs": [
        {
          "output_type": "execute_result",
          "data": {
            "text/plain": [
              "2"
            ]
          },
          "metadata": {},
          "execution_count": 6
        }
      ]
    },
    {
      "cell_type": "code",
      "metadata": {
        "colab": {
          "base_uri": "https://localhost:8080/"
        },
        "id": "kSpV0r10oHAO",
        "outputId": "9177c0fe-851c-4511-8dac-20ad02832d02"
      },
      "source": [
        "States_and_FootballTeams.shape"
      ],
      "execution_count": null,
      "outputs": [
        {
          "output_type": "execute_result",
          "data": {
            "text/plain": [
              "(2, 5)"
            ]
          },
          "metadata": {},
          "execution_count": 4
        }
      ]
    },
    {
      "cell_type": "code",
      "metadata": {
        "colab": {
          "base_uri": "https://localhost:8080/"
        },
        "id": "70KIBJNIoJON",
        "outputId": "eacfd32c-1b67-4713-c509-3746b7aec81a"
      },
      "source": [
        "States_and_FootballTeams.size"
      ],
      "execution_count": null,
      "outputs": [
        {
          "output_type": "execute_result",
          "data": {
            "text/plain": [
              "10"
            ]
          },
          "metadata": {},
          "execution_count": 3
        }
      ]
    },
    {
      "cell_type": "code",
      "metadata": {
        "colab": {
          "base_uri": "https://localhost:8080/"
        },
        "id": "xGzrN3V6oVJo",
        "outputId": "b3b215db-538d-4db2-f9a7-998779bf8810"
      },
      "source": [
        "States_and_FootballTeams.dtype"
      ],
      "execution_count": null,
      "outputs": [
        {
          "output_type": "execute_result",
          "data": {
            "text/plain": [
              "dtype('<U11')"
            ]
          },
          "metadata": {},
          "execution_count": 5
        }
      ]
    },
    {
      "cell_type": "code",
      "metadata": {
        "id": "dT7LVG_lFAri"
      },
      "source": [
        "#Make a copy of the array you created.\n",
        "States_and_FootballTeams=np.array([['New England', 'New York','Tennessee','Carolina','Dallas'],['Patriots','Giants','Titans','Panthers','Cowboys']])\n",
        "SF=np.copy(States_and_FootballTeams)"
      ],
      "execution_count": null,
      "outputs": []
    },
    {
      "cell_type": "code",
      "metadata": {
        "colab": {
          "base_uri": "https://localhost:8080/"
        },
        "id": "fEPVRsUDH33Z",
        "outputId": "53b044ba-18fc-4c5b-c0a6-29e2f9eaa89f"
      },
      "source": [
        "#Do a check to make sure that the copy of the array you created is identical to the original.\n",
        "print(SF)"
      ],
      "execution_count": null,
      "outputs": [
        {
          "output_type": "stream",
          "name": "stdout",
          "text": [
            "[['New England' 'New York' 'Tennessee' 'Carolina' 'Dallas']\n",
            " ['Patriots' 'Giants' 'Titans' 'Panthers' 'Cowboys']]\n"
          ]
        }
      ]
    },
    {
      "cell_type": "code",
      "metadata": {
        "colab": {
          "base_uri": "https://localhost:8080/"
        },
        "id": "TgztuSqdtNfb",
        "outputId": "8d608593-87ad-4d58-9321-61a4845930f1"
      },
      "source": [
        "Copy_of_States_and_FootballTeams is States_and_FootballTeams"
      ],
      "execution_count": null,
      "outputs": [
        {
          "output_type": "execute_result",
          "data": {
            "text/plain": [
              "False"
            ]
          },
          "metadata": {},
          "execution_count": 10
        }
      ]
    },
    {
      "cell_type": "code",
      "metadata": {
        "id": "oRc0Gei_tv0H",
        "colab": {
          "base_uri": "https://localhost:8080/"
        },
        "outputId": "ab8d20d6-eada-459a-c91f-5e4ff27a69ad"
      },
      "source": [
        "#Create a \"reduced view\" showing only the Tennessee Titans, Carolina Panthers, and Dallas Cowboys.\n",
        "\n",
        "print(SF[0,2],'Titans')\n",
        "print(SF[0,3],'Panthers')\n",
        "print(SF[0,4],'Cowboys')"
      ],
      "execution_count": null,
      "outputs": [
        {
          "output_type": "stream",
          "name": "stdout",
          "text": [
            "Tennessee Titans\n",
            "Carolina Panthers\n",
            "Dallas Cowboys\n"
          ]
        }
      ]
    }
  ]
}