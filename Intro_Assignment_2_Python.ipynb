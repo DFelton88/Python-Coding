{
  "nbformat": 4,
  "nbformat_minor": 0,
  "metadata": {
    "colab": {
      "name": "Intro Assignment 2 Python.ipynb",
      "provenance": [],
      "collapsed_sections": [],
      "authorship_tag": "ABX9TyNHhLdz96T1BU2g/Mox9ldY",
      "include_colab_link": true
    },
    "kernelspec": {
      "name": "python3",
      "display_name": "Python 3"
    },
    "language_info": {
      "name": "python"
    }
  },
  "cells": [
    {
      "cell_type": "markdown",
      "metadata": {
        "id": "view-in-github",
        "colab_type": "text"
      },
      "source": [
        "<a href=\"https://colab.research.google.com/github/DFelton88/TextAdventure-Dennisha/blob/master/Intro_Assignment_2_Python.ipynb\" target=\"_parent\"><img src=\"https://colab.research.google.com/assets/colab-badge.svg\" alt=\"Open In Colab\"/></a>"
      ]
    },
    {
      "cell_type": "code",
      "metadata": {
        "colab": {
          "base_uri": "https://localhost:8080/"
        },
        "id": "7VEOVLAzCaW7",
        "outputId": "ed208f4a-0987-445d-b924-0f1b3264491c"
      },
      "source": [
        "variable= \"Twinkle, twinkle, little star,\"\n",
        "string1=\"  How I wonder what you are! \"\n",
        "string2= \"    Up above the world so high, \"\n",
        "string3= \"    Like a diamond in the sky.\"\n",
        "string4=\"Twinkle, twinkle, little star,\" \n",
        "string5=\"  How I wonder what you are\"\n",
        "print(variable)\n",
        "print(string1)\n",
        "print(string2)\n",
        "print(string3)\n",
        "print(string4)\n",
        "print(string5)"
      ],
      "execution_count": null,
      "outputs": [
        {
          "output_type": "stream",
          "text": [
            "Twinkle, twinkle, little star,\n",
            "  How I wonder what you are! \n",
            "    Up above the world so high, \n",
            "    Like a diamond in the sky.\n",
            "Twinkle, twinkle, little star,\n",
            "  How I wonder what you are\n"
          ],
          "name": "stdout"
        }
      ]
    }
  ]
}