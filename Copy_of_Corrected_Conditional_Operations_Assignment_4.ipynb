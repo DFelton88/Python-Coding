{
  "nbformat": 4,
  "nbformat_minor": 0,
  "metadata": {
    "colab": {
      "name": "Copy of Corrected Conditional Operations Assignment 4.ipynb",
      "provenance": [],
      "authorship_tag": "ABX9TyPQ/l3h/W1KFuYMVYEYblXB",
      "include_colab_link": true
    },
    "kernelspec": {
      "name": "python3",
      "display_name": "Python 3"
    },
    "language_info": {
      "name": "python"
    }
  },
  "cells": [
    {
      "cell_type": "markdown",
      "metadata": {
        "id": "view-in-github",
        "colab_type": "text"
      },
      "source": [
        "<a href=\"https://colab.research.google.com/github/DFelton88/Python-Coding/blob/master/Copy_of_Corrected_Conditional_Operations_Assignment_4.ipynb\" target=\"_parent\"><img src=\"https://colab.research.google.com/assets/colab-badge.svg\" alt=\"Open In Colab\"/></a>"
      ]
    },
    {
      "cell_type": "code",
      "metadata": {
        "colab": {
          "base_uri": "https://localhost:8080/"
        },
        "id": "0bTyb4u1FmHP",
        "outputId": "8fa00ab7-2bc0-479e-824f-2e5ecf5fc46f"
      },
      "source": [
        "num = 71\n",
        "\n",
        "if 90 < num < 100:\n",
        "    print(\"A\")\n",
        "elif 80 < num <89:\n",
        "    print(\"B\")\n",
        "elif 70 < num < 79:\n",
        "    print(\"C\")\n",
        "elif 60 < num < 69:\n",
        "    print(\"D\")    \n",
        "elif 0 < num < 59:\n",
        "    print(\"F\")\n",
        "\n",
        "else:\n",
        "    print(\"Error\")"
      ],
      "execution_count": 1,
      "outputs": [
        {
          "output_type": "stream",
          "name": "stdout",
          "text": [
            "C\n"
          ]
        }
      ]
    }
  ]
}