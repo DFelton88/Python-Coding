{
  "nbformat": 4,
  "nbformat_minor": 0,
  "metadata": {
    "colab": {
      "name": "While Loop Assignment 1.ipynb",
      "provenance": [],
      "authorship_tag": "ABX9TyMOK2TeSLOCyCfPLl67Vng0",
      "include_colab_link": true
    },
    "kernelspec": {
      "name": "python3",
      "display_name": "Python 3"
    },
    "language_info": {
      "name": "python"
    }
  },
  "cells": [
    {
      "cell_type": "markdown",
      "metadata": {
        "id": "view-in-github",
        "colab_type": "text"
      },
      "source": [
        "<a href=\"https://colab.research.google.com/github/DFelton88/Python-Coding/blob/master/While_Loop_Assignment_1.ipynb\" target=\"_parent\"><img src=\"https://colab.research.google.com/assets/colab-badge.svg\" alt=\"Open In Colab\"/></a>"
      ]
    },
    {
      "cell_type": "code",
      "metadata": {
        "colab": {
          "base_uri": "https://localhost:8080/",
          "height": 35
        },
        "id": "yB0cgKXDhLQH",
        "outputId": "49e25ebc-a46c-4734-9b0c-12b87be581ed"
      },
      "source": [
        "grade = 101\n",
        "def letter_grade(x):\n",
        "\treturn 'F' if x < 60 else 'D' if x < 70 else 'C' if x < 80 else 'B' if x < 90 else 'A'if x < 101 else 'Error'\n",
        "\n",
        "letter_grade(grade)"
      ],
      "execution_count": null,
      "outputs": [
        {
          "output_type": "execute_result",
          "data": {
            "application/vnd.google.colaboratory.intrinsic+json": {
              "type": "string"
            },
            "text/plain": [
              "'Error'"
            ]
          },
          "metadata": {},
          "execution_count": 39
        }
      ]
    }
  ]
}