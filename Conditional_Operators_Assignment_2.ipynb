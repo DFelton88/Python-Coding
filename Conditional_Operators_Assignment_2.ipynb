{
  "nbformat": 4,
  "nbformat_minor": 0,
  "metadata": {
    "colab": {
      "name": "Conditional Operators Assignment 2.ipynb",
      "provenance": [],
      "authorship_tag": "ABX9TyPQ8bFwIkD8o677iQ67Aedd",
      "include_colab_link": true
    },
    "kernelspec": {
      "name": "python3",
      "display_name": "Python 3"
    },
    "language_info": {
      "name": "python"
    }
  },
  "cells": [
    {
      "cell_type": "markdown",
      "metadata": {
        "id": "view-in-github",
        "colab_type": "text"
      },
      "source": [
        "<a href=\"https://colab.research.google.com/github/DFelton88/Python-Coding/blob/master/Conditional_Operators_Assignment_2.ipynb\" target=\"_parent\"><img src=\"https://colab.research.google.com/assets/colab-badge.svg\" alt=\"Open In Colab\"/></a>"
      ]
    },
    {
      "cell_type": "code",
      "metadata": {
        "colab": {
          "base_uri": "https://localhost:8080/"
        },
        "id": "3k_K3GufQbTC",
        "outputId": "374d2497-5bba-4479-df8f-fadd73979b7b"
      },
      "source": [
        "days = [\"Monday\", \"Tuesday\", \"Wenesday\", \"Thursday\", \"Friday\"]\n",
        "for days in days:\n",
        "  print(days)"
      ],
      "execution_count": null,
      "outputs": [
        {
          "output_type": "stream",
          "text": [
            "Monday\n",
            "Tuesday\n",
            "Wenesday\n",
            "Thursday\n",
            "Friday\n"
          ],
          "name": "stdout"
        }
      ]
    },
    {
      "cell_type": "code",
      "metadata": {
        "colab": {
          "base_uri": "https://localhost:8080/"
        },
        "id": "E_57hp6hUW0a",
        "outputId": "3f1dd058-02a5-4415-cb42-1e3906f2989f"
      },
      "source": [
        "days = [\"Monday\", \"Tuesday\", \"Wenesday\", \"Thursday\", \"Friday\"]\n",
        "print(days[-3])"
      ],
      "execution_count": null,
      "outputs": [
        {
          "output_type": "stream",
          "text": [
            "Wenesday\n"
          ],
          "name": "stdout"
        }
      ]
    }
  ]
}