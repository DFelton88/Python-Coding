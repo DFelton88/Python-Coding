{
  "nbformat": 4,
  "nbformat_minor": 0,
  "metadata": {
    "colab": {
      "name": "Functions Assignment 5.ipynb",
      "provenance": [],
      "collapsed_sections": [],
      "authorship_tag": "ABX9TyOzJseAHJBtQLjmQMOP4Ktr",
      "include_colab_link": true
    },
    "kernelspec": {
      "name": "python3",
      "display_name": "Python 3"
    },
    "language_info": {
      "name": "python"
    }
  },
  "cells": [
    {
      "cell_type": "markdown",
      "metadata": {
        "id": "view-in-github",
        "colab_type": "text"
      },
      "source": [
        "<a href=\"https://colab.research.google.com/github/DFelton88/Python-Coding/blob/master/Functions_Assignment_5.ipynb\" target=\"_parent\"><img src=\"https://colab.research.google.com/assets/colab-badge.svg\" alt=\"Open In Colab\"/></a>"
      ]
    },
    {
      "cell_type": "code",
      "metadata": {
        "colab": {
          "base_uri": "https://localhost:8080/"
        },
        "id": "vL5RELyaIu8n",
        "outputId": "3b1733f2-ae4c-4a40-b781-6e109ceb43dd"
      },
      "source": [
        "#Write a Python function that takes a number as a parameter and checks if the number is prime or not\n",
        "num = int(input(\"Enter the number: \"))\n",
        "for i in range(2,num):\n",
        "    if num % i == 0:\n",
        "        print(\"Not Prime\")\n",
        "        break\n",
        "else:\n",
        "    print(\"Prime\")"
      ],
      "execution_count": null,
      "outputs": [
        {
          "output_type": "stream",
          "name": "stdout",
          "text": [
            "Enter the number: 55\n",
            "Not Prime\n"
          ]
        }
      ]
    },
    {
      "cell_type": "code",
      "metadata": {
        "colab": {
          "base_uri": "https://localhost:8080/"
        },
        "id": "PUXkFU267yh8",
        "outputId": "3d5562e6-ab8f-4f5b-b9f1-4f3b88bd5cc9"
      },
      "source": [
        "#convert miles into kilometers\n",
        "miles = float(input(\"Enter distance in miles: \"))\n",
        " \n",
        "# conversion factor\n",
        "conv_fac = 1.60934\n",
        " \n",
        "# calculate miles\n",
        "km = miles * conv_fac\n",
        "print('%0.3f miles is equal to %0.3f Kilometers' %(miles,km))"
      ],
      "execution_count": null,
      "outputs": [
        {
          "output_type": "stream",
          "name": "stdout",
          "text": [
            "Enter distance in miles: 10\n",
            "10.000 miles is equal to 16.093 Kilometers\n"
          ]
        }
      ]
    },
    {
      "cell_type": "code",
      "metadata": {
        "colab": {
          "base_uri": "https://localhost:8080/"
        },
        "id": "aSetSgIB-ZX8",
        "outputId": "23d3c451-7c8a-4c94-bf76-2ce156456c40"
      },
      "source": [
        "def cube(x):\n",
        "  res = x**3\n",
        "  return res\n",
        "\n",
        "n = int(input(\"enter the number\"))\n",
        "print(cube(n))"
      ],
      "execution_count": null,
      "outputs": [
        {
          "output_type": "stream",
          "name": "stdout",
          "text": [
            "enter the number-5\n",
            "-125\n"
          ]
        }
      ]
    },
    {
      "cell_type": "code",
      "metadata": {
        "colab": {
          "base_uri": "https://localhost:8080/"
        },
        "id": "oQDKUc6f8xW5",
        "outputId": "701736e4-5a25-4b6c-f695-78088639412c"
      },
      "source": [
        "def string_test(s):\n",
        "    d={\"UPPER_CASE\":0, \"LOWER_CASE\":0}\n",
        "    for c in s:\n",
        "        if c.isupper():\n",
        "           d[\"UPPER_CASE\"]+=1\n",
        "        elif c.islower():\n",
        "           d[\"LOWER_CASE\"]+=1\n",
        "        else:\n",
        "           pass\n",
        "    print (\"Original String : \", s)\n",
        "    print (\"No. of Upper case characters : \", d[\"UPPER_CASE\"])\n",
        "    print (\"No. of Lower case Characters : \", d[\"LOWER_CASE\"])\n",
        "\n",
        "string_test('The quick Brown Fox')"
      ],
      "execution_count": null,
      "outputs": [
        {
          "output_type": "stream",
          "name": "stdout",
          "text": [
            "Original String :  The quick Brown Fox\n",
            "No. of Upper case characters :  3\n",
            "No. of Lower case Characters :  13\n"
          ]
        }
      ]
    }
  ]
}