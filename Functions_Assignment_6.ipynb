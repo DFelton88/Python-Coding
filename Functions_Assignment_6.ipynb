{
  "nbformat": 4,
  "nbformat_minor": 0,
  "metadata": {
    "colab": {
      "name": "Functions Assignment 6.ipynb",
      "provenance": [],
      "collapsed_sections": [],
      "authorship_tag": "ABX9TyMwEaxX2s4abyblyDB8EUo9",
      "include_colab_link": true
    },
    "kernelspec": {
      "name": "python3",
      "display_name": "Python 3"
    },
    "language_info": {
      "name": "python"
    }
  },
  "cells": [
    {
      "cell_type": "markdown",
      "metadata": {
        "id": "view-in-github",
        "colab_type": "text"
      },
      "source": [
        "<a href=\"https://colab.research.google.com/github/DFelton88/Python-Coding/blob/master/Functions_Assignment_6.ipynb\" target=\"_parent\"><img src=\"https://colab.research.google.com/assets/colab-badge.svg\" alt=\"Open In Colab\"/></a>"
      ]
    },
    {
      "cell_type": "code",
      "metadata": {
        "colab": {
          "base_uri": "https://localhost:8080/"
        },
        "id": "hnN0O4dd2DMK",
        "outputId": "8d96ccb0-b089-4b84-cd41-bc842ba428b4"
      },
      "source": [
        "#Use Python functions to calculate the cost of a vacation with the following function:\n",
        "\n",
        "def hotel_cost(nights):\n",
        "    return 100 * nights\n",
        "def plane_ride_cost(city):\n",
        "    if city.lower() == \"charlotte\":\n",
        "        return 183\n",
        "    elif city.lower() == \"tampa\":\n",
        "        return 220\n",
        "    elif city.lower() == \"pittsburgh\":\n",
        "        return 222\n",
        "    elif city.lower() == \"los angeles\":\n",
        "        return 475\n",
        "    else:\n",
        "        return 0\n",
        "def rental_car_cost(days):\n",
        "    cost = days * 40\n",
        "    if days >= 7:\n",
        "        cost -= 50\n",
        "    elif days >= 3:\n",
        "        cost -= 20\n",
        "        return cost\n",
        "\n",
        "def trip_cost(city, days):\n",
        "    return rental_car_cost(days) + hotel_cost(days) + plane_ride_cost(city)\n",
        "\t\n",
        "print (trip_cost('Los Angeles', 5))"
      ],
      "execution_count": null,
      "outputs": [
        {
          "output_type": "stream",
          "name": "stdout",
          "text": [
            "1155\n"
          ]
        }
      ]
    }
  ]
}